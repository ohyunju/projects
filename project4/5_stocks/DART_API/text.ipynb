{
  "nbformat": 4,
  "nbformat_minor": 0,
  "metadata": {
    "colab": {
      "name": "text.ipynb",
      "provenance": [],
      "collapsed_sections": []
    },
    "kernelspec": {
      "name": "python3",
      "display_name": "Python 3"
    },
    "language_info": {
      "name": "python"
    }
  },
  "cells": [
    {
      "cell_type": "code",
      "metadata": {
        "id": "R_GL7uEOEhTL"
      },
      "source": [
        "'''\n",
        "삼성전자, 005930, 00126380\n",
        "네이버, 035420, 00266961\n",
        "현대차, 005380, 00164742\n",
        "카카오, 035720, 00258801\n",
        "SK하이닉스, 000660, 00164779\n",
        "'''"
      ],
      "execution_count": null,
      "outputs": []
    },
    {
      "cell_type": "code",
      "metadata": {
        "id": "zFjgNzV0HdDe"
      },
      "source": [
        "import requests\n",
        "import json\n",
        "import pandas as pd\n",
        "\n",
        "crtfc_key = '7086a18c1993548bf194ebc663dad73f5890ebf6'\n",
        "corp_codes = ['00126380', '00266961', '00164742', '00258801', '00164779']\n",
        "bsns_years = ['2015','2016','2017','2018','2019','2020'] #사업연도 2015년 이후 정보제공\n",
        "reprt_code = '11011' #사업보고서"
      ],
      "execution_count": 2,
      "outputs": []
    },
    {
      "cell_type": "code",
      "metadata": {
        "id": "0ldicBj-shNE"
      },
      "source": [
        "def convertFnltt(url, items, item_names, params):\n",
        "    res = requests.get(url, params)\n",
        "    json_dict = json.loads(res.text)\n",
        "    data = []\n",
        "    if json_dict['status'] == \"000\":\n",
        "        for line in json_dict['list']:\n",
        "            data.append([])\n",
        "            for itm in items:\n",
        "                if itm in line.keys(): data[-1].append(line[itm])\n",
        "                else: data[-1].append('')\n",
        "    df = pd.DataFrame(data, columns=item_names)\n",
        "    return df"
      ],
      "execution_count": 3,
      "outputs": []
    },
    {
      "cell_type": "markdown",
      "metadata": {
        "id": "qEHoVGTIPvov"
      },
      "source": [
        "예시"
      ]
    },
    {
      "cell_type": "code",
      "metadata": {
        "id": "uk2avjsbTV8m"
      },
      "source": [
        "def get_fnlttSinglAcnt(crtfc_key, corp_code, bsns_year, reprt_code):\n",
        "    items = [\"rcept_no\", \"bsns_year\", \"stock_code\", \"reprt_code\", \"account_nm\", \"fs_div\", \"fs_nm\",\"sj_div\",\n",
        "             \"sj_nm\", \"thstrm_nm\", \"thstrm_dt\", \"thstrm_amount\",\"thstrm_add_amount\", \"frmtrm_nm\",\n",
        "             \"frmtrm_dt\", \"frmtrm_amount\",\"frmtrm_add_amount\", \"bfefrmtrm_nm\", \"bfefrmtrm_dt\", \"bfefrmtrm_amount\",\"ord\"]\n",
        "    item_names = [\"접수번호\", \"사업연도\", \"종목코드\", \"보고서코드\", \"계정명\", \"개별연결구분\",\"개별연결명\", \"재무제표구분\",\n",
        "                  \"재무제표명\", \"당기명\", \"당기일자\",\"당기금액\", \"당기누적금액\", \"전기명\", \"전기일자\", \"전기금액\",\n",
        "                  \"전기누적금액\", \"전전기명\", \"전전기일자\", \"전전기금액\", \"계정과목정렬순서\"]\n",
        "    params = {'crtfc_key': crtfc_key, 'corp_code': corp_code, 'bsns_year': bsns_year, 'reprt_code': reprt_code}\n",
        "    url = \"https://opendart.fss.or.kr/api/fnlttSinglAcnt.json\"\n",
        "    return convertFnltt(url, items, item_names, params)"
      ],
      "execution_count": 5,
      "outputs": []
    },
    {
      "cell_type": "code",
      "metadata": {
        "id": "XKrBDZG3I9Cl"
      },
      "source": [
        "df_orgn = pd.DataFrame()\n",
        "codeList = [11013, 11012, 11014, 11011]\n",
        "\n",
        "for year in range(2017, 2021):\n",
        "    for code in codeList:\n",
        "        df_temp = get_fnlttSinglAcnt(crtfc_key=crtfc_key,\n",
        "                                     corp_code=corp_codes[0],\n",
        "                                     bsns_year=year,\n",
        "                                     reprt_code=code)\n",
        "        df_orgn = pd.concat([df_orgn, df_temp])"
      ],
      "execution_count": 7,
      "outputs": []
    },
    {
      "cell_type": "markdown",
      "metadata": {
        "id": "JJHDGaKDJ4Iq"
      },
      "source": [
        "배당"
      ]
    },
    {
      "cell_type": "code",
      "metadata": {
        "id": "xZywkKM2EZI7"
      },
      "source": [
        "def get_alotMatter(crtfc_key, corp_code, bsns_year, reprt_code):\n",
        "    items = [\"rcept_no\", \"corp_cls\", \"corp_code\", \"corp_name\", \"se\", \"stock_knd\", \"thstrm\", \"thstrm\", \"lwfr\"]\n",
        "    item_names = [\"접수번호\", \"법인구분\", \"고유번호\", \"법인명\", \"구분\", \"주식 종류\",\"당기\", \"전기\", \"전전기\"]\n",
        "    params = {'crtfc_key': crtfc_key, 'corp_code': corp_code, 'bsns_year': bsns_year, 'reprt_code': reprt_code}\n",
        "    url = \"https://opendart.fss.or.kr/api/alotMatter.json\"\n",
        "    return convertFnltt(url, items, item_names, params)"
      ],
      "execution_count": 22,
      "outputs": []
    },
    {
      "cell_type": "code",
      "metadata": {
        "id": "GDzB4xfNEZDe"
      },
      "source": [
        "for corp_code in corp_codes:\n",
        "  df_alotMatter = pd.DataFrame()\n",
        "\n",
        "  for year in range(2015, 2021):\n",
        "    df_temp = get_alotMatter(crtfc_key=crtfc_key,\n",
        "                                  corp_code=corp_code,\n",
        "                                  bsns_year=year,\n",
        "                                  reprt_code=11011)\n",
        "    df_alotMatter = pd.concat([df_alotMatter, df_temp])\n",
        "\n",
        "  df_alotMatter.to_csv('./'+corp_code+'_alotMatter.csv')"
      ],
      "execution_count": 31,
      "outputs": []
    },
    {
      "cell_type": "markdown",
      "metadata": {
        "id": "TT-iIfkpP1ZB"
      },
      "source": [
        "자기주식 취득 및 처분"
      ]
    },
    {
      "cell_type": "code",
      "metadata": {
        "id": "Eb2ly89bP1Mj"
      },
      "source": [
        "def get_tesstkAcqsDspsSttus(crtfc_key, corp_code, bsns_year, reprt_code):\n",
        "    items = [\"rcept_no\", \"corp_cls\", \"corp_code\", \"corp_name\", \"acqs_mth1\", \"acqs_mth2\", \"acqs_mth3\", \n",
        "             \"stock_knd\", \"bsis_qy\", \"change_qy_acqs\", \"change_qy_dsps\", \"change_qy_incnr\", \"trmend_qy\", \"rm\"]\n",
        "    item_names = [\"접수번호\", \"법인구분\", \"고유번호\", \"법인명\", \"취득방법 대분류\", \"취득방법 중분류\",\"취득방법 소분류\"\n",
        "    , \"주식 종류\", \"기초 수량\", \"변동 수량 취득\", \"변동 수량 처분\", \"변동 수량 소각\", \"기말 수량\", \"비고\"]\n",
        "    params = {'crtfc_key': crtfc_key, 'corp_code': corp_code, 'bsns_year': bsns_year, 'reprt_code': reprt_code}\n",
        "    url = \"https://opendart.fss.or.kr/api/alotMatter.json\"\n",
        "    return convertFnltt(url, items, item_names, params)"
      ],
      "execution_count": 32,
      "outputs": []
    },
    {
      "cell_type": "code",
      "metadata": {
        "id": "cMZT4DuBP5Wq"
      },
      "source": [
        "for corp_code in corp_codes:\n",
        "  df_tesstkAcqsDspsSttus = pd.DataFrame()\n",
        "\n",
        "  for year in range(2015, 2021):\n",
        "    df_temp = get_tesstkAcqsDspsSttus(crtfc_key=crtfc_key,\n",
        "                                  corp_code=corp_code,\n",
        "                                  bsns_year=year,\n",
        "                                  reprt_code=11011)\n",
        "    df_tesstkAcqsDspsSttus = pd.concat([df_tesstkAcqsDspsSttus, df_temp])\n",
        "\n",
        "  df_tesstkAcqsDspsSttus.to_csv('./'+corp_code+'_tesstkAcqsDspsSttus.csv')"
      ],
      "execution_count": 33,
      "outputs": []
    }
  ]
}