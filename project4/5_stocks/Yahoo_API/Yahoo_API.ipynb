{
  "nbformat": 4,
  "nbformat_minor": 0,
  "metadata": {
    "colab": {
      "name": "Yahoo_API.ipynb",
      "provenance": [],
      "collapsed_sections": []
    },
    "kernelspec": {
      "name": "python3",
      "display_name": "Python 3"
    },
    "language_info": {
      "name": "python"
    }
  },
  "cells": [
    {
      "cell_type": "code",
      "metadata": {
        "id": "MktnCsmnTadq"
      },
      "source": [
        "import pandas as pd\n",
        "import numpy as np\n",
        "import pandas_datareader.data as web\n",
        "import datetime"
      ],
      "execution_count": null,
      "outputs": []
    },
    {
      "cell_type": "code",
      "metadata": {
        "id": "1ikOnixCT0z4"
      },
      "source": [
        "start = datetime.datetime(2000,1,1)\n",
        "end = datetime.datetime(2021,6,30)"
      ],
      "execution_count": null,
      "outputs": []
    },
    {
      "cell_type": "code",
      "metadata": {
        "colab": {
          "base_uri": "https://localhost:8080/",
          "height": 450
        },
        "id": "7Whi7srZT-aw",
        "outputId": "f50b24a2-1ad0-4107-9362-f82976c3c9cd"
      },
      "source": [
        "# 야후API 코스피지수\n",
        "code_name = '^KS11'\n",
        "code = web.DataReader(code_name, 'yahoo', start, end)\n",
        "code"
      ],
      "execution_count": null,
      "outputs": [
        {
          "output_type": "execute_result",
          "data": {
            "text/html": [
              "<div>\n",
              "<style scoped>\n",
              "    .dataframe tbody tr th:only-of-type {\n",
              "        vertical-align: middle;\n",
              "    }\n",
              "\n",
              "    .dataframe tbody tr th {\n",
              "        vertical-align: top;\n",
              "    }\n",
              "\n",
              "    .dataframe thead th {\n",
              "        text-align: right;\n",
              "    }\n",
              "</style>\n",
              "<table border=\"1\" class=\"dataframe\">\n",
              "  <thead>\n",
              "    <tr style=\"text-align: right;\">\n",
              "      <th></th>\n",
              "      <th>High</th>\n",
              "      <th>Low</th>\n",
              "      <th>Open</th>\n",
              "      <th>Close</th>\n",
              "      <th>Volume</th>\n",
              "      <th>Adj Close</th>\n",
              "    </tr>\n",
              "    <tr>\n",
              "      <th>Date</th>\n",
              "      <th></th>\n",
              "      <th></th>\n",
              "      <th></th>\n",
              "      <th></th>\n",
              "      <th></th>\n",
              "      <th></th>\n",
              "    </tr>\n",
              "  </thead>\n",
              "  <tbody>\n",
              "    <tr>\n",
              "      <th>2000-01-04</th>\n",
              "      <td>1066.180054</td>\n",
              "      <td>1016.590027</td>\n",
              "      <td>1028.329956</td>\n",
              "      <td>1059.040039</td>\n",
              "      <td>195900.0</td>\n",
              "      <td>1059.040039</td>\n",
              "    </tr>\n",
              "    <tr>\n",
              "      <th>2000-01-05</th>\n",
              "      <td>1026.520020</td>\n",
              "      <td>984.049988</td>\n",
              "      <td>1006.869995</td>\n",
              "      <td>986.309998</td>\n",
              "      <td>257700.0</td>\n",
              "      <td>986.309998</td>\n",
              "    </tr>\n",
              "    <tr>\n",
              "      <th>2000-01-06</th>\n",
              "      <td>1014.900024</td>\n",
              "      <td>953.500000</td>\n",
              "      <td>1013.950012</td>\n",
              "      <td>960.789978</td>\n",
              "      <td>203500.0</td>\n",
              "      <td>960.789978</td>\n",
              "    </tr>\n",
              "    <tr>\n",
              "      <th>2000-01-07</th>\n",
              "      <td>970.159973</td>\n",
              "      <td>930.840027</td>\n",
              "      <td>949.169983</td>\n",
              "      <td>948.650024</td>\n",
              "      <td>215700.0</td>\n",
              "      <td>948.650024</td>\n",
              "    </tr>\n",
              "    <tr>\n",
              "      <th>2000-01-10</th>\n",
              "      <td>994.940002</td>\n",
              "      <td>974.820007</td>\n",
              "      <td>979.669983</td>\n",
              "      <td>987.239990</td>\n",
              "      <td>240200.0</td>\n",
              "      <td>987.239990</td>\n",
              "    </tr>\n",
              "    <tr>\n",
              "      <th>...</th>\n",
              "      <td>...</td>\n",
              "      <td>...</td>\n",
              "      <td>...</td>\n",
              "      <td>...</td>\n",
              "      <td>...</td>\n",
              "      <td>...</td>\n",
              "    </tr>\n",
              "    <tr>\n",
              "      <th>2021-06-23</th>\n",
              "      <td>3281.879883</td>\n",
              "      <td>3263.070068</td>\n",
              "      <td>3265.729980</td>\n",
              "      <td>3276.189941</td>\n",
              "      <td>1068300.0</td>\n",
              "      <td>3276.189941</td>\n",
              "    </tr>\n",
              "    <tr>\n",
              "      <th>2021-06-24</th>\n",
              "      <td>3292.270020</td>\n",
              "      <td>3277.850098</td>\n",
              "      <td>3281.469971</td>\n",
              "      <td>3286.100098</td>\n",
              "      <td>1300300.0</td>\n",
              "      <td>3286.100098</td>\n",
              "    </tr>\n",
              "    <tr>\n",
              "      <th>2021-06-25</th>\n",
              "      <td>3316.080078</td>\n",
              "      <td>3289.179932</td>\n",
              "      <td>3289.179932</td>\n",
              "      <td>3302.840088</td>\n",
              "      <td>1197600.0</td>\n",
              "      <td>3302.840088</td>\n",
              "    </tr>\n",
              "    <tr>\n",
              "      <th>2021-06-28</th>\n",
              "      <td>3311.689941</td>\n",
              "      <td>3291.300049</td>\n",
              "      <td>3305.459961</td>\n",
              "      <td>3301.889893</td>\n",
              "      <td>1427400.0</td>\n",
              "      <td>3301.889893</td>\n",
              "    </tr>\n",
              "    <tr>\n",
              "      <th>2021-06-29</th>\n",
              "      <td>3305.419922</td>\n",
              "      <td>3276.629883</td>\n",
              "      <td>3305.260010</td>\n",
              "      <td>3286.679932</td>\n",
              "      <td>1213046.0</td>\n",
              "      <td>3286.679932</td>\n",
              "    </tr>\n",
              "  </tbody>\n",
              "</table>\n",
              "<p>5299 rows × 6 columns</p>\n",
              "</div>"
            ],
            "text/plain": [
              "                   High          Low  ...     Volume    Adj Close\n",
              "Date                                  ...                        \n",
              "2000-01-04  1066.180054  1016.590027  ...   195900.0  1059.040039\n",
              "2000-01-05  1026.520020   984.049988  ...   257700.0   986.309998\n",
              "2000-01-06  1014.900024   953.500000  ...   203500.0   960.789978\n",
              "2000-01-07   970.159973   930.840027  ...   215700.0   948.650024\n",
              "2000-01-10   994.940002   974.820007  ...   240200.0   987.239990\n",
              "...                 ...          ...  ...        ...          ...\n",
              "2021-06-23  3281.879883  3263.070068  ...  1068300.0  3276.189941\n",
              "2021-06-24  3292.270020  3277.850098  ...  1300300.0  3286.100098\n",
              "2021-06-25  3316.080078  3289.179932  ...  1197600.0  3302.840088\n",
              "2021-06-28  3311.689941  3291.300049  ...  1427400.0  3301.889893\n",
              "2021-06-29  3305.419922  3276.629883  ...  1213046.0  3286.679932\n",
              "\n",
              "[5299 rows x 6 columns]"
            ]
          },
          "metadata": {
            "tags": []
          },
          "execution_count": 6
        }
      ]
    },
    {
      "cell_type": "code",
      "metadata": {
        "id": "J6MFhY3oV1Bb"
      },
      "source": [
        "'''\n",
        "삼성전자, 005930\n",
        "네이버, 035420\n",
        "현대차, 005380\n",
        "카카오, 035720\n",
        "SK하이닉스, 000660\n",
        "'''"
      ],
      "execution_count": null,
      "outputs": []
    },
    {
      "cell_type": "code",
      "metadata": {
        "colab": {
          "base_uri": "https://localhost:8080/",
          "height": 620
        },
        "id": "Snv4fovDUupU",
        "outputId": "63a65ff2-a2ee-4348-dd9b-1c72297efe07"
      },
      "source": [
        "# 종목코드 + .KS 코스피 / .KQ 코스닥\n",
        "\n",
        "code_name1 = '035420.KS'\n",
        "code1 = web.DataReader(code_name1, 'yahoo', start, end)\n",
        "code1"
      ],
      "execution_count": null,
      "outputs": [
        {
          "output_type": "execute_result",
          "data": {
            "text/html": [
              "<div>\n",
              "<style scoped>\n",
              "    .dataframe tbody tr th:only-of-type {\n",
              "        vertical-align: middle;\n",
              "    }\n",
              "\n",
              "    .dataframe tbody tr th {\n",
              "        vertical-align: top;\n",
              "    }\n",
              "\n",
              "    .dataframe thead th {\n",
              "        text-align: right;\n",
              "    }\n",
              "</style>\n",
              "<table border=\"1\" class=\"dataframe\">\n",
              "  <thead>\n",
              "    <tr style=\"text-align: right;\">\n",
              "      <th></th>\n",
              "      <th>High</th>\n",
              "      <th>Low</th>\n",
              "      <th>Open</th>\n",
              "      <th>Close</th>\n",
              "      <th>Volume</th>\n",
              "      <th>Adj Close</th>\n",
              "    </tr>\n",
              "    <tr>\n",
              "      <th>Date</th>\n",
              "      <th></th>\n",
              "      <th></th>\n",
              "      <th></th>\n",
              "      <th></th>\n",
              "      <th></th>\n",
              "      <th></th>\n",
              "    </tr>\n",
              "  </thead>\n",
              "  <tbody>\n",
              "    <tr>\n",
              "      <th>2002-10-29</th>\n",
              "      <td>1797.724854</td>\n",
              "      <td>1797.724854</td>\n",
              "      <td>1797.724854</td>\n",
              "      <td>1797.724854</td>\n",
              "      <td>501745.0</td>\n",
              "      <td>1763.381104</td>\n",
              "    </tr>\n",
              "    <tr>\n",
              "      <th>2002-10-30</th>\n",
              "      <td>2012.226074</td>\n",
              "      <td>1989.754517</td>\n",
              "      <td>2012.226074</td>\n",
              "      <td>2012.226074</td>\n",
              "      <td>20892185.0</td>\n",
              "      <td>1973.784546</td>\n",
              "    </tr>\n",
              "    <tr>\n",
              "      <th>2002-10-31</th>\n",
              "      <td>2091.897949</td>\n",
              "      <td>1865.139526</td>\n",
              "      <td>2042.869141</td>\n",
              "      <td>1912.125488</td>\n",
              "      <td>32327083.0</td>\n",
              "      <td>1875.595947</td>\n",
              "    </tr>\n",
              "    <tr>\n",
              "      <th>2002-11-01</th>\n",
              "      <td>2022.440430</td>\n",
              "      <td>1724.181519</td>\n",
              "      <td>1961.154419</td>\n",
              "      <td>1793.639038</td>\n",
              "      <td>18373668.0</td>\n",
              "      <td>1759.373291</td>\n",
              "    </tr>\n",
              "    <tr>\n",
              "      <th>2002-11-04</th>\n",
              "      <td>1789.553345</td>\n",
              "      <td>1660.852539</td>\n",
              "      <td>1777.296143</td>\n",
              "      <td>1703.752808</td>\n",
              "      <td>16939411.0</td>\n",
              "      <td>1671.204102</td>\n",
              "    </tr>\n",
              "    <tr>\n",
              "      <th>...</th>\n",
              "      <td>...</td>\n",
              "      <td>...</td>\n",
              "      <td>...</td>\n",
              "      <td>...</td>\n",
              "      <td>...</td>\n",
              "      <td>...</td>\n",
              "    </tr>\n",
              "    <tr>\n",
              "      <th>2021-06-23</th>\n",
              "      <td>427000.000000</td>\n",
              "      <td>392500.000000</td>\n",
              "      <td>393000.000000</td>\n",
              "      <td>423500.000000</td>\n",
              "      <td>2721355.0</td>\n",
              "      <td>423500.000000</td>\n",
              "    </tr>\n",
              "    <tr>\n",
              "      <th>2021-06-24</th>\n",
              "      <td>436000.000000</td>\n",
              "      <td>413000.000000</td>\n",
              "      <td>430000.000000</td>\n",
              "      <td>419500.000000</td>\n",
              "      <td>2143286.0</td>\n",
              "      <td>419500.000000</td>\n",
              "    </tr>\n",
              "    <tr>\n",
              "      <th>2021-06-25</th>\n",
              "      <td>420000.000000</td>\n",
              "      <td>405000.000000</td>\n",
              "      <td>420000.000000</td>\n",
              "      <td>410000.000000</td>\n",
              "      <td>1382051.0</td>\n",
              "      <td>410000.000000</td>\n",
              "    </tr>\n",
              "    <tr>\n",
              "      <th>2021-06-28</th>\n",
              "      <td>413000.000000</td>\n",
              "      <td>403000.000000</td>\n",
              "      <td>406000.000000</td>\n",
              "      <td>408000.000000</td>\n",
              "      <td>623480.0</td>\n",
              "      <td>408000.000000</td>\n",
              "    </tr>\n",
              "    <tr>\n",
              "      <th>2021-06-29</th>\n",
              "      <td>411500.000000</td>\n",
              "      <td>406000.000000</td>\n",
              "      <td>409500.000000</td>\n",
              "      <td>411500.000000</td>\n",
              "      <td>568752.0</td>\n",
              "      <td>411500.000000</td>\n",
              "    </tr>\n",
              "  </tbody>\n",
              "</table>\n",
              "<p>4661 rows × 6 columns</p>\n",
              "</div>"
            ],
            "text/plain": [
              "                     High            Low  ...      Volume      Adj Close\n",
              "Date                                      ...                           \n",
              "2002-10-29    1797.724854    1797.724854  ...    501745.0    1763.381104\n",
              "2002-10-30    2012.226074    1989.754517  ...  20892185.0    1973.784546\n",
              "2002-10-31    2091.897949    1865.139526  ...  32327083.0    1875.595947\n",
              "2002-11-01    2022.440430    1724.181519  ...  18373668.0    1759.373291\n",
              "2002-11-04    1789.553345    1660.852539  ...  16939411.0    1671.204102\n",
              "...                   ...            ...  ...         ...            ...\n",
              "2021-06-23  427000.000000  392500.000000  ...   2721355.0  423500.000000\n",
              "2021-06-24  436000.000000  413000.000000  ...   2143286.0  419500.000000\n",
              "2021-06-25  420000.000000  405000.000000  ...   1382051.0  410000.000000\n",
              "2021-06-28  413000.000000  403000.000000  ...    623480.0  408000.000000\n",
              "2021-06-29  411500.000000  406000.000000  ...    568752.0  411500.000000\n",
              "\n",
              "[4661 rows x 6 columns]"
            ]
          },
          "metadata": {
            "tags": []
          },
          "execution_count": 9
        }
      ]
    },
    {
      "cell_type": "code",
      "metadata": {
        "id": "l0AXnCdmV9x0"
      },
      "source": [
        "code1.to_csv('035420_네이버.csv')"
      ],
      "execution_count": null,
      "outputs": []
    },
    {
      "cell_type": "code",
      "metadata": {
        "id": "n0T6vm0XWo8L"
      },
      "source": [
        "'''\n",
        "삼성전자, 005930\n",
        "네이버, 035420\n",
        "현대차, 005380\n",
        "카카오, 035720\n",
        "SK하이닉스, 000660\n",
        "'''"
      ],
      "execution_count": null,
      "outputs": []
    },
    {
      "cell_type": "code",
      "metadata": {
        "id": "46UV7MaPWlyM"
      },
      "source": [
        "code_name2 = '005930.KS'\n",
        "code2 = web.DataReader(code_name2, 'yahoo', start, end)\n",
        "code2.to_csv('005930_삼성전자.csv')"
      ],
      "execution_count": null,
      "outputs": []
    },
    {
      "cell_type": "code",
      "metadata": {
        "id": "7o-eMB4-W09V"
      },
      "source": [
        "code_name3 = '005380.KS'\n",
        "code3 = web.DataReader(code_name3, 'yahoo', start, end)\n",
        "code3.to_csv('005380_현대차.csv')"
      ],
      "execution_count": null,
      "outputs": []
    },
    {
      "cell_type": "code",
      "metadata": {
        "id": "bKJwi0PsW8ZU"
      },
      "source": [
        "code_name4 = '035720.KS'\n",
        "code4 = web.DataReader(code_name4, 'yahoo', start, end)\n",
        "code4.to_csv('035720_카카오.csv')"
      ],
      "execution_count": null,
      "outputs": []
    },
    {
      "cell_type": "code",
      "metadata": {
        "id": "V1Ty_AAMXCvJ"
      },
      "source": [
        "code_name5 = '000660.KS'\n",
        "code5 = web.DataReader(code_name5, 'yahoo', start, end)\n",
        "code5.to_csv('000660_SK하이닉스.csv')"
      ],
      "execution_count": null,
      "outputs": []
    }
  ]
}