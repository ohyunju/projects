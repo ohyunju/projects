{
  "nbformat": 4,
  "nbformat_minor": 0,
  "metadata": {
    "colab": {
      "name": "Project1.ipynb",
      "provenance": [],
      "include_colab_link": true
    },
    "kernelspec": {
      "name": "python3",
      "display_name": "Python 3"
    },
    "language_info": {
      "name": "python"
    }
  },
  "cells": [
    {
      "cell_type": "markdown",
      "metadata": {
        "id": "view-in-github",
        "colab_type": "text"
      },
      "source": [
        "<a href=\"https://colab.research.google.com/github/ohyunju/projects/blob/ohyunju-patch-1/project1/Project1.ipynb\" target=\"_parent\"><img src=\"https://colab.research.google.com/assets/colab-badge.svg\" alt=\"Open In Colab\"/></a>"
      ]
    },
    {
      "cell_type": "markdown",
      "metadata": {
        "id": "WySTXFUCOTlU"
      },
      "source": [
        "#1일차\n",
        "\n",
        "---\n",
        "\n"
      ]
    },
    {
      "cell_type": "markdown",
      "metadata": {
        "id": "qOcDbmnjoWqK"
      },
      "source": [
        " ## 프로젝트에 꼭 포함되야 하는 내용\n",
        "1. 지역에 따라서 선호하는 게임 장르가 다를까\n",
        "2. 연도별 게임의 트렌드가 있을까\n",
        "3. 출고량이 높은 게임에 대한 분석 및 시각화 프로세스\n",
        "\n",
        "\n",
        "---\n",
        "\n"
      ]
    },
    {
      "cell_type": "markdown",
      "metadata": {
        "id": "XDCp5BQVo-hK"
      },
      "source": [
        "## 학습 계획\n",
        "* 1일차 : EDA(데이터 전처리) 및 데이터를 가지고 할 수 있는 계획 수립\n",
        "* 2일차 : Hypothesis Test, CI, Bayesian, DR, PCA, Cluster 및 시각화\n",
        "* 3일차 : Hypothesis Test, CI, Bayesian, DR, PCA, Cluster 및 시각화\n",
        "* 4일차 : 스크립트 제작 및 영상물 촬영\n",
        "\n",
        "\n",
        "---\n",
        "\n"
      ]
    },
    {
      "cell_type": "code",
      "metadata": {
        "colab": {
          "base_uri": "https://localhost:8080/",
          "height": 544
        },
        "id": "LJrys_ZIRGWu",
        "outputId": "f85e7b94-8275-4b50-904d-cc440ac6eeb1"
      },
      "source": [
        "import pandas as pd\n",
        "\n",
        "url='https://ds-lecture-data.s3.ap-northeast-2.amazonaws.com/datasets/vgames2.csv'\n",
        "df = pd.read_csv(url)\n",
        "\n",
        "# Unnamed: 0 는 단순 인덱스넘버이므로 삭제\n",
        "df = df.drop('Unnamed: 0', axis = 1) \n",
        "df.isnull().sum()\n",
        "# 'Year' 271 / 'Genre' 50 / 'Publisher' 58 의 널값 존재, 결측치 드랍\n",
        "df_man=df.dropna()\n",
        "# 칼럼명 'Name','Platform','Year','Genre','Publisher','NA_Sales','EU_Sales','JP_Sales','Other_Sales' \n",
        "\n",
        "print(df_man.info())\n",
        "df_man.head() #(16241 rows × 9 columns)"
      ],
      "execution_count": 1,
      "outputs": [
        {
          "output_type": "stream",
          "text": [
            "<class 'pandas.core.frame.DataFrame'>\n",
            "Int64Index: 16241 entries, 0 to 16597\n",
            "Data columns (total 9 columns):\n",
            " #   Column       Non-Null Count  Dtype  \n",
            "---  ------       --------------  -----  \n",
            " 0   Name         16241 non-null  object \n",
            " 1   Platform     16241 non-null  object \n",
            " 2   Year         16241 non-null  float64\n",
            " 3   Genre        16241 non-null  object \n",
            " 4   Publisher    16241 non-null  object \n",
            " 5   NA_Sales     16241 non-null  object \n",
            " 6   EU_Sales     16241 non-null  object \n",
            " 7   JP_Sales     16241 non-null  object \n",
            " 8   Other_Sales  16241 non-null  object \n",
            "dtypes: float64(1), object(8)\n",
            "memory usage: 1.2+ MB\n",
            "None\n"
          ],
          "name": "stdout"
        },
        {
          "output_type": "execute_result",
          "data": {
            "text/html": [
              "<div>\n",
              "<style scoped>\n",
              "    .dataframe tbody tr th:only-of-type {\n",
              "        vertical-align: middle;\n",
              "    }\n",
              "\n",
              "    .dataframe tbody tr th {\n",
              "        vertical-align: top;\n",
              "    }\n",
              "\n",
              "    .dataframe thead th {\n",
              "        text-align: right;\n",
              "    }\n",
              "</style>\n",
              "<table border=\"1\" class=\"dataframe\">\n",
              "  <thead>\n",
              "    <tr style=\"text-align: right;\">\n",
              "      <th></th>\n",
              "      <th>Name</th>\n",
              "      <th>Platform</th>\n",
              "      <th>Year</th>\n",
              "      <th>Genre</th>\n",
              "      <th>Publisher</th>\n",
              "      <th>NA_Sales</th>\n",
              "      <th>EU_Sales</th>\n",
              "      <th>JP_Sales</th>\n",
              "      <th>Other_Sales</th>\n",
              "    </tr>\n",
              "  </thead>\n",
              "  <tbody>\n",
              "    <tr>\n",
              "      <th>0</th>\n",
              "      <td>Candace Kane's Candy Factory</td>\n",
              "      <td>DS</td>\n",
              "      <td>2008.0</td>\n",
              "      <td>Action</td>\n",
              "      <td>Destineer</td>\n",
              "      <td>0.04</td>\n",
              "      <td>0</td>\n",
              "      <td>0</td>\n",
              "      <td>0</td>\n",
              "    </tr>\n",
              "    <tr>\n",
              "      <th>1</th>\n",
              "      <td>The Munchables</td>\n",
              "      <td>Wii</td>\n",
              "      <td>2009.0</td>\n",
              "      <td>Action</td>\n",
              "      <td>Namco Bandai Games</td>\n",
              "      <td>0.17</td>\n",
              "      <td>0</td>\n",
              "      <td>0</td>\n",
              "      <td>0.01</td>\n",
              "    </tr>\n",
              "    <tr>\n",
              "      <th>2</th>\n",
              "      <td>Otome wa Oanesama Boku ni Koi Shiteru Portable</td>\n",
              "      <td>PSP</td>\n",
              "      <td>2010.0</td>\n",
              "      <td>Adventure</td>\n",
              "      <td>Alchemist</td>\n",
              "      <td>0</td>\n",
              "      <td>0</td>\n",
              "      <td>0.02</td>\n",
              "      <td>0</td>\n",
              "    </tr>\n",
              "    <tr>\n",
              "      <th>3</th>\n",
              "      <td>Deal or No Deal: Special Edition</td>\n",
              "      <td>DS</td>\n",
              "      <td>2010.0</td>\n",
              "      <td>Misc</td>\n",
              "      <td>Zoo Games</td>\n",
              "      <td>0.04</td>\n",
              "      <td>0</td>\n",
              "      <td>0</td>\n",
              "      <td>0</td>\n",
              "    </tr>\n",
              "    <tr>\n",
              "      <th>4</th>\n",
              "      <td>Ben 10 Ultimate Alien: Cosmic Destruction</td>\n",
              "      <td>PS3</td>\n",
              "      <td>2010.0</td>\n",
              "      <td>Platform</td>\n",
              "      <td>D3Publisher</td>\n",
              "      <td>0.12</td>\n",
              "      <td>0.09</td>\n",
              "      <td>0</td>\n",
              "      <td>0.04</td>\n",
              "    </tr>\n",
              "  </tbody>\n",
              "</table>\n",
              "</div>"
            ],
            "text/plain": [
              "                                             Name Platform  ...  JP_Sales Other_Sales\n",
              "0                    Candace Kane's Candy Factory       DS  ...         0           0\n",
              "1                                  The Munchables      Wii  ...         0        0.01\n",
              "2  Otome wa Oanesama Boku ni Koi Shiteru Portable      PSP  ...      0.02           0\n",
              "3                Deal or No Deal: Special Edition       DS  ...         0           0\n",
              "4       Ben 10 Ultimate Alien: Cosmic Destruction      PS3  ...         0        0.04\n",
              "\n",
              "[5 rows x 9 columns]"
            ]
          },
          "metadata": {
            "tags": []
          },
          "execution_count": 1
        }
      ]
    },
    {
      "cell_type": "markdown",
      "metadata": {
        "id": "05vwVS2Vp8zZ"
      },
      "source": [
        "## 계획 수립\n",
        "1. 지역에 따라서 선호하는 게임 장르가 다를까 \n",
        "> **파이그래프**로 각 지역에 따른 분포를 보여주기, 4개의 지역에 따른 선호 장르를 차이를 따지기 위해 **ANOVA**사용 \n",
        "2. 연도별 게임의 트렌드가 있을까 (게임의 트렌드라는 말을 장르로 인식) \n",
        "> 4가지의 Sales 칼럼을 모두 모은 Total_Sales 칼럼을 만들어, *x=출시연도 & y=Total_Sales & hue=장르*로 **선그래프**로시각화, 연도와 토탈세일에 대한 차이가 있는지 확인하기 위해 **T-test** 나 **chi-square-test**, **chi2_contingency**사용\n",
        "3. 출고량이 높은 게임에 대한 분석 및 시각화 프로세스 \n",
        "> 위에서 만든 Total_Sales 라는 칼럼을 이용, **누적그래프**를 이용해서 출고량이 제일 많다는 것 보여주기, 출고량 상위 30가지 항목이용\n",
        "4. 연도별 플랫폼에도 트렌드가 있을까 \n",
        "> 4가지의 Sales 칼럼을 모두 모은 Total_Sales 칼럼을 만들어, *x=출시연도 & y=Total_Sales & hue=플랫폼*으로 **선그래프**로시각화, 연도와 토탈세일에 대한 차이가 있는지 확인하기 위해 **T-test** 나 **chi-square-test**, **chi2_contingency**사용\n",
        "5. 제일 선호되는 회사와 지역에 따라서 선호하는 회사가 다를까 \n",
        "> 전체적으로 랭킹 상위30 (575개의 회사), **파이그래프**로 각 지역에 따른 분포를 보여주기, 4개의 지역에 따른 회사 선호 장르를 차이를 따지기 위해 **ANOVA**사용(자국의 회사를 선호하는지?, 자국인지는 구글링 해보기)\n",
        "6. 출시이후 평균 판매량은 어떤지 확인하기, 전체적으로도, 지역별로 그룹해서도, 또한 순위 재평가(상위 30개 게임)\n",
        "> 출시이후 평균 판매량=총판매량/(지금년도-출시년도+1) 라는 수식을 사용(지금의 판매량은 누적이기 때문에 늦게 출시된 제품의 판매량이 떨어질 수 밖에 없다고 판단), 꾸준히 인기가 있는 게임이 있다면 원인은 무엇일까?\n",
        "\n",
        "# + DR, PCA, Cluster 를 활용할 수 있는 방안 생각하기\n",
        "\n",
        "### 결과 \n",
        "이러한 분석들을 통해 전세계를 대상으로한 게임을 출시하려고 한다면 \n",
        "  * 지역에 따라 게임의 장르, 플랫폼을 다르게 설정해야 하는지\n",
        "  * 지금 트렌드의 장르로 개발하는 것이 맞는지 (연도별 장르의 추세를 보여줄 수 있는 선 그래프 활용, 약 40년의 기간을 5년의 기간으로 쪼개고 그동안의 장르(12개중 상위 3개씩) 변동 보여주는데 바 그래프 이용)\n",
        "  * 위 질문에 대한 타탕성의 결과 어떤 게임을 출시해야 한다.\n"
      ]
    },
    {
      "cell_type": "code",
      "metadata": {
        "id": "ZqeLZ7xTFQul"
      },
      "source": [
        "header=['Platform','Year','Genre','Publisher']\n",
        "for i in header:\n",
        "  df_check=df_man[i]\n",
        "  df_check=df_check.drop_duplicates()\n",
        "  print('길이',len(df_check))\n",
        "  print(df_check)\n",
        "\n",
        "# 플랫폼에 숫자(2600)가 있길래 잘못 입력인줄 알았는데 구글에 확인하니 이런 플랫폼이 존재 (아타리2600)\n",
        "# 연도에 이상한 값 있음"
      ],
      "execution_count": null,
      "outputs": []
    },
    {
      "cell_type": "code",
      "metadata": {
        "colab": {
          "base_uri": "https://localhost:8080/",
          "height": 495
        },
        "id": "MjdVxdmSC2cz",
        "outputId": "ffc0ac2f-5346-42e2-b706-1ebf72aef7de"
      },
      "source": [
        "#'Year' 칼럼 100초과로 잡아줌\n",
        "df1=df_man[df_man.Year >100]\n",
        "df1.describe()\n",
        "df1 #(16141 rows × 9 columns)\n",
        "\n",
        "df1[10:20]"
      ],
      "execution_count": 3,
      "outputs": [
        {
          "output_type": "execute_result",
          "data": {
            "text/html": [
              "<div>\n",
              "<style scoped>\n",
              "    .dataframe tbody tr th:only-of-type {\n",
              "        vertical-align: middle;\n",
              "    }\n",
              "\n",
              "    .dataframe tbody tr th {\n",
              "        vertical-align: top;\n",
              "    }\n",
              "\n",
              "    .dataframe thead th {\n",
              "        text-align: right;\n",
              "    }\n",
              "</style>\n",
              "<table border=\"1\" class=\"dataframe\">\n",
              "  <thead>\n",
              "    <tr style=\"text-align: right;\">\n",
              "      <th></th>\n",
              "      <th>Name</th>\n",
              "      <th>Platform</th>\n",
              "      <th>Year</th>\n",
              "      <th>Genre</th>\n",
              "      <th>Publisher</th>\n",
              "      <th>NA_Sales</th>\n",
              "      <th>EU_Sales</th>\n",
              "      <th>JP_Sales</th>\n",
              "      <th>Other_Sales</th>\n",
              "    </tr>\n",
              "  </thead>\n",
              "  <tbody>\n",
              "    <tr>\n",
              "      <th>10</th>\n",
              "      <td>Ford Racing</td>\n",
              "      <td>PS</td>\n",
              "      <td>2001.0</td>\n",
              "      <td>Racing</td>\n",
              "      <td>Empire Interactive</td>\n",
              "      <td>480K</td>\n",
              "      <td>0.33M</td>\n",
              "      <td>0K</td>\n",
              "      <td>0.06</td>\n",
              "    </tr>\n",
              "    <tr>\n",
              "      <th>11</th>\n",
              "      <td>Harvest Moon: More Friends of Mineral Town</td>\n",
              "      <td>GBA</td>\n",
              "      <td>2003.0</td>\n",
              "      <td>Simulation</td>\n",
              "      <td>Ubisoft</td>\n",
              "      <td>0.14</td>\n",
              "      <td>0.05</td>\n",
              "      <td>0</td>\n",
              "      <td>0</td>\n",
              "    </tr>\n",
              "    <tr>\n",
              "      <th>12</th>\n",
              "      <td>Mount &amp; Blade</td>\n",
              "      <td>PC</td>\n",
              "      <td>2008.0</td>\n",
              "      <td>Role-Playing</td>\n",
              "      <td>Paradox Interactive</td>\n",
              "      <td>0</td>\n",
              "      <td>0.02</td>\n",
              "      <td>0</td>\n",
              "      <td>0</td>\n",
              "    </tr>\n",
              "    <tr>\n",
              "      <th>13</th>\n",
              "      <td>The Professor's Brain Trainer: Logic</td>\n",
              "      <td>DS</td>\n",
              "      <td>2005.0</td>\n",
              "      <td>Puzzle</td>\n",
              "      <td>505 Games</td>\n",
              "      <td>0.02</td>\n",
              "      <td>0</td>\n",
              "      <td>0</td>\n",
              "      <td>0</td>\n",
              "    </tr>\n",
              "    <tr>\n",
              "      <th>14</th>\n",
              "      <td>Zoids Dash</td>\n",
              "      <td>DS</td>\n",
              "      <td>2006.0</td>\n",
              "      <td>Role-Playing</td>\n",
              "      <td>Tomy Corporation</td>\n",
              "      <td>0</td>\n",
              "      <td>0</td>\n",
              "      <td>0.02</td>\n",
              "      <td>0</td>\n",
              "    </tr>\n",
              "    <tr>\n",
              "      <th>15</th>\n",
              "      <td>Mini Ninjas</td>\n",
              "      <td>PS3</td>\n",
              "      <td>2009.0</td>\n",
              "      <td>Action</td>\n",
              "      <td>Eidos Interactive</td>\n",
              "      <td>0.14</td>\n",
              "      <td>0.16</td>\n",
              "      <td>0</td>\n",
              "      <td>0.06</td>\n",
              "    </tr>\n",
              "    <tr>\n",
              "      <th>16</th>\n",
              "      <td>Rise of Nations</td>\n",
              "      <td>PC</td>\n",
              "      <td>2003.0</td>\n",
              "      <td>Strategy</td>\n",
              "      <td>Microsoft Game Studios</td>\n",
              "      <td>0.01</td>\n",
              "      <td>0.02</td>\n",
              "      <td>0</td>\n",
              "      <td>0.01</td>\n",
              "    </tr>\n",
              "    <tr>\n",
              "      <th>17</th>\n",
              "      <td>Hajime no Ippo: The Fighting! (2014)</td>\n",
              "      <td>PS3</td>\n",
              "      <td>2014.0</td>\n",
              "      <td>Sports</td>\n",
              "      <td>Namco Bandai Games</td>\n",
              "      <td>0</td>\n",
              "      <td>0</td>\n",
              "      <td>0.03</td>\n",
              "      <td>0</td>\n",
              "    </tr>\n",
              "    <tr>\n",
              "      <th>18</th>\n",
              "      <td>Grand Kingdom</td>\n",
              "      <td>PS4</td>\n",
              "      <td>2015.0</td>\n",
              "      <td>Role-Playing</td>\n",
              "      <td>Nippon Ichi Software</td>\n",
              "      <td>0.02</td>\n",
              "      <td>0</td>\n",
              "      <td>0.03</td>\n",
              "      <td>0</td>\n",
              "    </tr>\n",
              "    <tr>\n",
              "      <th>19</th>\n",
              "      <td>Tropico Reloaded</td>\n",
              "      <td>PC</td>\n",
              "      <td>2009.0</td>\n",
              "      <td>Strategy</td>\n",
              "      <td>Kalypso Media</td>\n",
              "      <td>0</td>\n",
              "      <td>0.02</td>\n",
              "      <td>0</td>\n",
              "      <td>0</td>\n",
              "    </tr>\n",
              "  </tbody>\n",
              "</table>\n",
              "</div>"
            ],
            "text/plain": [
              "                                          Name Platform  ...  JP_Sales Other_Sales\n",
              "10                                 Ford Racing       PS  ...        0K        0.06\n",
              "11  Harvest Moon: More Friends of Mineral Town      GBA  ...         0           0\n",
              "12                               Mount & Blade       PC  ...         0           0\n",
              "13        The Professor's Brain Trainer: Logic       DS  ...         0           0\n",
              "14                                  Zoids Dash       DS  ...      0.02           0\n",
              "15                                 Mini Ninjas      PS3  ...         0        0.06\n",
              "16                             Rise of Nations       PC  ...         0        0.01\n",
              "17        Hajime no Ippo: The Fighting! (2014)      PS3  ...      0.03           0\n",
              "18                               Grand Kingdom      PS4  ...      0.03           0\n",
              "19                            Tropico Reloaded       PC  ...         0           0\n",
              "\n",
              "[10 rows x 9 columns]"
            ]
          },
          "metadata": {
            "tags": []
          },
          "execution_count": 3
        }
      ]
    },
    {
      "cell_type": "code",
      "metadata": {
        "id": "bYAa9HqPgny_",
        "colab": {
          "base_uri": "https://localhost:8080/"
        },
        "outputId": "bf6fd59c-d0f4-4cd5-f57f-da1d548e345b"
      },
      "source": [
        "# Sales 값 들에 대한 데이터 전처리 (K,M)\n",
        "Sales=['NA_Sales','EU_Sales','JP_Sales','Other_Sales']\n",
        "df2=df1\n",
        "print(len(df2)) \n",
        "print(len(df)) "
      ],
      "execution_count": 4,
      "outputs": [
        {
          "output_type": "stream",
          "text": [
            "16141\n",
            "16598\n"
          ],
          "name": "stdout"
        }
      ]
    },
    {
      "cell_type": "code",
      "metadata": {
        "id": "YmJ1wjPRo4yS",
        "colab": {
          "base_uri": "https://localhost:8080/",
          "height": 872
        },
        "outputId": "929fc6f6-6633-41c4-cab3-8cf36110cd41"
      },
      "source": [
        "#시간 줄이는 간단한 방법이 없을까....ㅠㅠ\n",
        "#인덱스 넘버는 0-16597(갯수는 16141) 개라 시간이 많이 소요****주의(내 컴기준 거의 5분)\n",
        "\n",
        "for i in Sales:\n",
        "  df2[i]=df2[i].str.replace('M','')\n",
        "  for j in range(0,len(df)):\n",
        "    try:\n",
        "      if df2[i].str.contains('K')[j]:\n",
        "        df2[i][j]=df2[i][j].replace('K','')\n",
        "        df2[i][j]=pd.to_numeric(df2[i][j])*0.001   \n",
        "    except:\n",
        "      continue\n",
        "\n",
        "df2[10:20] "
      ],
      "execution_count": 6,
      "outputs": [
        {
          "output_type": "stream",
          "text": [
            "/usr/local/lib/python3.7/dist-packages/ipykernel_launcher.py:5: SettingWithCopyWarning: \n",
            "A value is trying to be set on a copy of a slice from a DataFrame.\n",
            "Try using .loc[row_indexer,col_indexer] = value instead\n",
            "\n",
            "See the caveats in the documentation: https://pandas.pydata.org/pandas-docs/stable/user_guide/indexing.html#returning-a-view-versus-a-copy\n",
            "  \"\"\"\n",
            "/usr/local/lib/python3.7/dist-packages/ipykernel_launcher.py:9: SettingWithCopyWarning: \n",
            "A value is trying to be set on a copy of a slice from a DataFrame\n",
            "\n",
            "See the caveats in the documentation: https://pandas.pydata.org/pandas-docs/stable/user_guide/indexing.html#returning-a-view-versus-a-copy\n",
            "  if __name__ == '__main__':\n",
            "/usr/local/lib/python3.7/dist-packages/IPython/core/interactiveshell.py:2882: SettingWithCopyWarning: \n",
            "A value is trying to be set on a copy of a slice from a DataFrame\n",
            "\n",
            "See the caveats in the documentation: https://pandas.pydata.org/pandas-docs/stable/user_guide/indexing.html#returning-a-view-versus-a-copy\n",
            "  exec(code_obj, self.user_global_ns, self.user_ns)\n",
            "/usr/local/lib/python3.7/dist-packages/ipykernel_launcher.py:10: SettingWithCopyWarning: \n",
            "A value is trying to be set on a copy of a slice from a DataFrame\n",
            "\n",
            "See the caveats in the documentation: https://pandas.pydata.org/pandas-docs/stable/user_guide/indexing.html#returning-a-view-versus-a-copy\n",
            "  # Remove the CWD from sys.path while we load stuff.\n"
          ],
          "name": "stderr"
        },
        {
          "output_type": "execute_result",
          "data": {
            "text/html": [
              "<div>\n",
              "<style scoped>\n",
              "    .dataframe tbody tr th:only-of-type {\n",
              "        vertical-align: middle;\n",
              "    }\n",
              "\n",
              "    .dataframe tbody tr th {\n",
              "        vertical-align: top;\n",
              "    }\n",
              "\n",
              "    .dataframe thead th {\n",
              "        text-align: right;\n",
              "    }\n",
              "</style>\n",
              "<table border=\"1\" class=\"dataframe\">\n",
              "  <thead>\n",
              "    <tr style=\"text-align: right;\">\n",
              "      <th></th>\n",
              "      <th>Name</th>\n",
              "      <th>Platform</th>\n",
              "      <th>Year</th>\n",
              "      <th>Genre</th>\n",
              "      <th>Publisher</th>\n",
              "      <th>NA_Sales</th>\n",
              "      <th>EU_Sales</th>\n",
              "      <th>JP_Sales</th>\n",
              "      <th>Other_Sales</th>\n",
              "    </tr>\n",
              "  </thead>\n",
              "  <tbody>\n",
              "    <tr>\n",
              "      <th>10</th>\n",
              "      <td>Ford Racing</td>\n",
              "      <td>PS</td>\n",
              "      <td>2001.0</td>\n",
              "      <td>Racing</td>\n",
              "      <td>Empire Interactive</td>\n",
              "      <td>0.48</td>\n",
              "      <td>0.33</td>\n",
              "      <td>0</td>\n",
              "      <td>0.06</td>\n",
              "    </tr>\n",
              "    <tr>\n",
              "      <th>11</th>\n",
              "      <td>Harvest Moon: More Friends of Mineral Town</td>\n",
              "      <td>GBA</td>\n",
              "      <td>2003.0</td>\n",
              "      <td>Simulation</td>\n",
              "      <td>Ubisoft</td>\n",
              "      <td>0.14</td>\n",
              "      <td>0.05</td>\n",
              "      <td>0</td>\n",
              "      <td>0</td>\n",
              "    </tr>\n",
              "    <tr>\n",
              "      <th>12</th>\n",
              "      <td>Mount &amp; Blade</td>\n",
              "      <td>PC</td>\n",
              "      <td>2008.0</td>\n",
              "      <td>Role-Playing</td>\n",
              "      <td>Paradox Interactive</td>\n",
              "      <td>0</td>\n",
              "      <td>0.02</td>\n",
              "      <td>0</td>\n",
              "      <td>0</td>\n",
              "    </tr>\n",
              "    <tr>\n",
              "      <th>13</th>\n",
              "      <td>The Professor's Brain Trainer: Logic</td>\n",
              "      <td>DS</td>\n",
              "      <td>2005.0</td>\n",
              "      <td>Puzzle</td>\n",
              "      <td>505 Games</td>\n",
              "      <td>0.02</td>\n",
              "      <td>0</td>\n",
              "      <td>0</td>\n",
              "      <td>0</td>\n",
              "    </tr>\n",
              "    <tr>\n",
              "      <th>14</th>\n",
              "      <td>Zoids Dash</td>\n",
              "      <td>DS</td>\n",
              "      <td>2006.0</td>\n",
              "      <td>Role-Playing</td>\n",
              "      <td>Tomy Corporation</td>\n",
              "      <td>0</td>\n",
              "      <td>0</td>\n",
              "      <td>0.02</td>\n",
              "      <td>0</td>\n",
              "    </tr>\n",
              "    <tr>\n",
              "      <th>15</th>\n",
              "      <td>Mini Ninjas</td>\n",
              "      <td>PS3</td>\n",
              "      <td>2009.0</td>\n",
              "      <td>Action</td>\n",
              "      <td>Eidos Interactive</td>\n",
              "      <td>0.14</td>\n",
              "      <td>0.16</td>\n",
              "      <td>0</td>\n",
              "      <td>0.06</td>\n",
              "    </tr>\n",
              "    <tr>\n",
              "      <th>16</th>\n",
              "      <td>Rise of Nations</td>\n",
              "      <td>PC</td>\n",
              "      <td>2003.0</td>\n",
              "      <td>Strategy</td>\n",
              "      <td>Microsoft Game Studios</td>\n",
              "      <td>0.01</td>\n",
              "      <td>0.02</td>\n",
              "      <td>0</td>\n",
              "      <td>0.01</td>\n",
              "    </tr>\n",
              "    <tr>\n",
              "      <th>17</th>\n",
              "      <td>Hajime no Ippo: The Fighting! (2014)</td>\n",
              "      <td>PS3</td>\n",
              "      <td>2014.0</td>\n",
              "      <td>Sports</td>\n",
              "      <td>Namco Bandai Games</td>\n",
              "      <td>0</td>\n",
              "      <td>0</td>\n",
              "      <td>0.03</td>\n",
              "      <td>0</td>\n",
              "    </tr>\n",
              "    <tr>\n",
              "      <th>18</th>\n",
              "      <td>Grand Kingdom</td>\n",
              "      <td>PS4</td>\n",
              "      <td>2015.0</td>\n",
              "      <td>Role-Playing</td>\n",
              "      <td>Nippon Ichi Software</td>\n",
              "      <td>0.02</td>\n",
              "      <td>0</td>\n",
              "      <td>0.03</td>\n",
              "      <td>0</td>\n",
              "    </tr>\n",
              "    <tr>\n",
              "      <th>19</th>\n",
              "      <td>Tropico Reloaded</td>\n",
              "      <td>PC</td>\n",
              "      <td>2009.0</td>\n",
              "      <td>Strategy</td>\n",
              "      <td>Kalypso Media</td>\n",
              "      <td>0</td>\n",
              "      <td>0.02</td>\n",
              "      <td>0</td>\n",
              "      <td>0</td>\n",
              "    </tr>\n",
              "  </tbody>\n",
              "</table>\n",
              "</div>"
            ],
            "text/plain": [
              "                                          Name Platform  ...  JP_Sales Other_Sales\n",
              "10                                 Ford Racing       PS  ...         0        0.06\n",
              "11  Harvest Moon: More Friends of Mineral Town      GBA  ...         0           0\n",
              "12                               Mount & Blade       PC  ...         0           0\n",
              "13        The Professor's Brain Trainer: Logic       DS  ...         0           0\n",
              "14                                  Zoids Dash       DS  ...      0.02           0\n",
              "15                                 Mini Ninjas      PS3  ...         0        0.06\n",
              "16                             Rise of Nations       PC  ...         0        0.01\n",
              "17        Hajime no Ippo: The Fighting! (2014)      PS3  ...      0.03           0\n",
              "18                               Grand Kingdom      PS4  ...      0.03           0\n",
              "19                            Tropico Reloaded       PC  ...         0           0\n",
              "\n",
              "[10 rows x 9 columns]"
            ]
          },
          "metadata": {
            "tags": []
          },
          "execution_count": 6
        }
      ]
    },
    {
      "cell_type": "code",
      "metadata": {
        "id": "5h3E58pwmFZM"
      },
      "source": [
        "#df2['NA_Sales'].str.endswith('K')[10]  #True\n",
        "#df2['NA_Sales'][10]=pd.to_numeric(df2['NA_Sales'][10].replace('K',''))*0.001 \n",
        "#df2['NA_Sales'][10]=df2['NA_Sales'][10].replace('K','')\n",
        "#df2['NA_Sales'][10]\n",
        "#df2['NA_Sales'][10]=pd.to_numeric(df2['NA_Sales'][10])*0.001\n",
        "#df2['NA_Sales'][10]\n",
        "\n",
        "#df2['NA_Sales'].str.contains('K')[45] #True\n",
        "\n",
        "df2[85:94]"
      ],
      "execution_count": null,
      "outputs": []
    },
    {
      "cell_type": "code",
      "metadata": {
        "colab": {
          "base_uri": "https://localhost:8080/"
        },
        "id": "2McYAM6Wh2Pi",
        "outputId": "8ade2785-2ae3-4e35-fed6-9eeeb5a28fbd"
      },
      "source": [
        "df2['Year'] = df2['Year'].astype(int)\n",
        "\n",
        "for i in Sales:\n",
        "  df2[i] = df2[i].astype(float)\n",
        "\n",
        "df2.info()"
      ],
      "execution_count": 11,
      "outputs": [
        {
          "output_type": "stream",
          "text": [
            "<class 'pandas.core.frame.DataFrame'>\n",
            "Int64Index: 16141 entries, 0 to 16597\n",
            "Data columns (total 9 columns):\n",
            " #   Column       Non-Null Count  Dtype  \n",
            "---  ------       --------------  -----  \n",
            " 0   Name         16141 non-null  object \n",
            " 1   Platform     16141 non-null  object \n",
            " 2   Year         16141 non-null  int64  \n",
            " 3   Genre        16141 non-null  object \n",
            " 4   Publisher    16141 non-null  object \n",
            " 5   NA_Sales     16141 non-null  float64\n",
            " 6   EU_Sales     16141 non-null  float64\n",
            " 7   JP_Sales     16141 non-null  float64\n",
            " 8   Other_Sales  16141 non-null  float64\n",
            "dtypes: float64(4), int64(1), object(4)\n",
            "memory usage: 1.9+ MB\n"
          ],
          "name": "stdout"
        },
        {
          "output_type": "stream",
          "text": [
            "/usr/local/lib/python3.7/dist-packages/ipykernel_launcher.py:1: SettingWithCopyWarning: \n",
            "A value is trying to be set on a copy of a slice from a DataFrame.\n",
            "Try using .loc[row_indexer,col_indexer] = value instead\n",
            "\n",
            "See the caveats in the documentation: https://pandas.pydata.org/pandas-docs/stable/user_guide/indexing.html#returning-a-view-versus-a-copy\n",
            "  \"\"\"Entry point for launching an IPython kernel.\n",
            "/usr/local/lib/python3.7/dist-packages/ipykernel_launcher.py:4: SettingWithCopyWarning: \n",
            "A value is trying to be set on a copy of a slice from a DataFrame.\n",
            "Try using .loc[row_indexer,col_indexer] = value instead\n",
            "\n",
            "See the caveats in the documentation: https://pandas.pydata.org/pandas-docs/stable/user_guide/indexing.html#returning-a-view-versus-a-copy\n",
            "  after removing the cwd from sys.path.\n"
          ],
          "name": "stderr"
        }
      ]
    },
    {
      "cell_type": "markdown",
      "metadata": {
        "id": "Or-1NFFyOO1K"
      },
      "source": [
        "# 2일차\n",
        "\n",
        "---\n",
        "\n"
      ]
    },
    {
      "cell_type": "code",
      "metadata": {
        "id": "UnOjgKPmRy2b",
        "outputId": "2902d91b-3b7a-4600-cbea-0015ff553f53",
        "colab": {
          "base_uri": "https://localhost:8080/",
          "height": 255
        }
      },
      "source": [
        "df2.head()"
      ],
      "execution_count": 13,
      "outputs": [
        {
          "output_type": "execute_result",
          "data": {
            "text/html": [
              "<div>\n",
              "<style scoped>\n",
              "    .dataframe tbody tr th:only-of-type {\n",
              "        vertical-align: middle;\n",
              "    }\n",
              "\n",
              "    .dataframe tbody tr th {\n",
              "        vertical-align: top;\n",
              "    }\n",
              "\n",
              "    .dataframe thead th {\n",
              "        text-align: right;\n",
              "    }\n",
              "</style>\n",
              "<table border=\"1\" class=\"dataframe\">\n",
              "  <thead>\n",
              "    <tr style=\"text-align: right;\">\n",
              "      <th></th>\n",
              "      <th>Name</th>\n",
              "      <th>Platform</th>\n",
              "      <th>Year</th>\n",
              "      <th>Genre</th>\n",
              "      <th>Publisher</th>\n",
              "      <th>NA_Sales</th>\n",
              "      <th>EU_Sales</th>\n",
              "      <th>JP_Sales</th>\n",
              "      <th>Other_Sales</th>\n",
              "    </tr>\n",
              "  </thead>\n",
              "  <tbody>\n",
              "    <tr>\n",
              "      <th>0</th>\n",
              "      <td>Candace Kane's Candy Factory</td>\n",
              "      <td>DS</td>\n",
              "      <td>2008</td>\n",
              "      <td>Action</td>\n",
              "      <td>Destineer</td>\n",
              "      <td>0.04</td>\n",
              "      <td>0.00</td>\n",
              "      <td>0.00</td>\n",
              "      <td>0.00</td>\n",
              "    </tr>\n",
              "    <tr>\n",
              "      <th>1</th>\n",
              "      <td>The Munchables</td>\n",
              "      <td>Wii</td>\n",
              "      <td>2009</td>\n",
              "      <td>Action</td>\n",
              "      <td>Namco Bandai Games</td>\n",
              "      <td>0.17</td>\n",
              "      <td>0.00</td>\n",
              "      <td>0.00</td>\n",
              "      <td>0.01</td>\n",
              "    </tr>\n",
              "    <tr>\n",
              "      <th>2</th>\n",
              "      <td>Otome wa Oanesama Boku ni Koi Shiteru Portable</td>\n",
              "      <td>PSP</td>\n",
              "      <td>2010</td>\n",
              "      <td>Adventure</td>\n",
              "      <td>Alchemist</td>\n",
              "      <td>0.00</td>\n",
              "      <td>0.00</td>\n",
              "      <td>0.02</td>\n",
              "      <td>0.00</td>\n",
              "    </tr>\n",
              "    <tr>\n",
              "      <th>3</th>\n",
              "      <td>Deal or No Deal: Special Edition</td>\n",
              "      <td>DS</td>\n",
              "      <td>2010</td>\n",
              "      <td>Misc</td>\n",
              "      <td>Zoo Games</td>\n",
              "      <td>0.04</td>\n",
              "      <td>0.00</td>\n",
              "      <td>0.00</td>\n",
              "      <td>0.00</td>\n",
              "    </tr>\n",
              "    <tr>\n",
              "      <th>4</th>\n",
              "      <td>Ben 10 Ultimate Alien: Cosmic Destruction</td>\n",
              "      <td>PS3</td>\n",
              "      <td>2010</td>\n",
              "      <td>Platform</td>\n",
              "      <td>D3Publisher</td>\n",
              "      <td>0.12</td>\n",
              "      <td>0.09</td>\n",
              "      <td>0.00</td>\n",
              "      <td>0.04</td>\n",
              "    </tr>\n",
              "  </tbody>\n",
              "</table>\n",
              "</div>"
            ],
            "text/plain": [
              "                                             Name  ... Other_Sales\n",
              "0                    Candace Kane's Candy Factory  ...        0.00\n",
              "1                                  The Munchables  ...        0.01\n",
              "2  Otome wa Oanesama Boku ni Koi Shiteru Portable  ...        0.00\n",
              "3                Deal or No Deal: Special Edition  ...        0.00\n",
              "4       Ben 10 Ultimate Alien: Cosmic Destruction  ...        0.04\n",
              "\n",
              "[5 rows x 9 columns]"
            ]
          },
          "metadata": {
            "tags": []
          },
          "execution_count": 13
        }
      ]
    },
    {
      "cell_type": "markdown",
      "metadata": {
        "id": "ccWn40hONzAL"
      },
      "source": [
        "#### 지역에 따라서 선호하는 게임 장르가 다를까 \n",
        "> **파이그래프**로 각 지역에 따른 분포를 보여주기, 4개의 지역에 따른 선호 장르를 차이를 따지기 위해 **ANOVA**사용"
      ]
    },
    {
      "cell_type": "code",
      "metadata": {
        "colab": {
          "base_uri": "https://localhost:8080/",
          "height": 407
        },
        "id": "3aiYs1tpNzi6",
        "outputId": "e9b563af-9c90-436f-81c4-360d1c236714"
      },
      "source": [
        "import pandas as pd\n",
        "import numpy as np\n",
        "\n",
        "#장르에 대한 선호도(판매량에 대한 가중치를 줘서)를 보여주기 위해 크로스탭을 한후 곱해줌\n",
        "obs_NA = pd.crosstab(df2['Genre'], df2['NA_Sales'])\n",
        "column=obs_NA.columns\n",
        "index=obs_NA.index\n",
        "obs2_NA=np.dot(np.array(obs_NA),np.array(column))\n",
        "obs_region=pd.DataFrame(data=obs2_NA)\n",
        "obs_region.columns=['NA_Sales']\n",
        "\n",
        "obs_EU = pd.crosstab(df2['Genre'], df2['EU_Sales'])\n",
        "column=obs_EU.columns\n",
        "obs2_EU=np.dot(np.array(obs_EU),np.array(column))\n",
        "obs_region['EU_Sales']=obs2_EU\n",
        "\n",
        "obs_JP = pd.crosstab(df2['Genre'], df2['JP_Sales'])\n",
        "column=obs_JP.columns\n",
        "obs2_JP=np.dot(np.array(obs_JP),np.array(column))\n",
        "obs_region['JP_Sales']=obs2_JP\n",
        "\n",
        "obs_Other = pd.crosstab(df2['Genre'], df2['Other_Sales'])\n",
        "column=obs_Other.columns\n",
        "obs2_Other=np.dot(np.array(obs_Other),np.array(column))\n",
        "obs_region['Other_Sales']=obs2_Other\n",
        "obs_region['Genre']=index\n",
        "\n",
        "obs_region"
      ],
      "execution_count": 45,
      "outputs": [
        {
          "output_type": "execute_result",
          "data": {
            "text/html": [
              "<div>\n",
              "<style scoped>\n",
              "    .dataframe tbody tr th:only-of-type {\n",
              "        vertical-align: middle;\n",
              "    }\n",
              "\n",
              "    .dataframe tbody tr th {\n",
              "        vertical-align: top;\n",
              "    }\n",
              "\n",
              "    .dataframe thead th {\n",
              "        text-align: right;\n",
              "    }\n",
              "</style>\n",
              "<table border=\"1\" class=\"dataframe\">\n",
              "  <thead>\n",
              "    <tr style=\"text-align: right;\">\n",
              "      <th></th>\n",
              "      <th>NA_Sales</th>\n",
              "      <th>EU_Sales</th>\n",
              "      <th>JP_Sales</th>\n",
              "      <th>Other_Sales</th>\n",
              "      <th>Genre</th>\n",
              "    </tr>\n",
              "  </thead>\n",
              "  <tbody>\n",
              "    <tr>\n",
              "      <th>0</th>\n",
              "      <td>855.96</td>\n",
              "      <td>512.52</td>\n",
              "      <td>155.73</td>\n",
              "      <td>183.64</td>\n",
              "      <td>Action</td>\n",
              "    </tr>\n",
              "    <tr>\n",
              "      <th>1</th>\n",
              "      <td>101.33</td>\n",
              "      <td>63.32</td>\n",
              "      <td>51.79</td>\n",
              "      <td>16.64</td>\n",
              "      <td>Adventure</td>\n",
              "    </tr>\n",
              "    <tr>\n",
              "      <th>2</th>\n",
              "      <td>220.11</td>\n",
              "      <td>99.72</td>\n",
              "      <td>86.39</td>\n",
              "      <td>36.10</td>\n",
              "      <td>Fighting</td>\n",
              "    </tr>\n",
              "    <tr>\n",
              "      <th>3</th>\n",
              "      <td>394.29</td>\n",
              "      <td>207.68</td>\n",
              "      <td>103.71</td>\n",
              "      <td>72.54</td>\n",
              "      <td>Misc</td>\n",
              "    </tr>\n",
              "    <tr>\n",
              "      <th>4</th>\n",
              "      <td>442.46</td>\n",
              "      <td>199.40</td>\n",
              "      <td>129.22</td>\n",
              "      <td>51.15</td>\n",
              "      <td>Platform</td>\n",
              "    </tr>\n",
              "    <tr>\n",
              "      <th>5</th>\n",
              "      <td>121.00</td>\n",
              "      <td>50.39</td>\n",
              "      <td>56.19</td>\n",
              "      <td>12.39</td>\n",
              "      <td>Puzzle</td>\n",
              "    </tr>\n",
              "    <tr>\n",
              "      <th>6</th>\n",
              "      <td>353.57</td>\n",
              "      <td>234.20</td>\n",
              "      <td>55.42</td>\n",
              "      <td>76.23</td>\n",
              "      <td>Racing</td>\n",
              "    </tr>\n",
              "    <tr>\n",
              "      <th>7</th>\n",
              "      <td>307.08</td>\n",
              "      <td>176.31</td>\n",
              "      <td>336.25</td>\n",
              "      <td>54.71</td>\n",
              "      <td>Role-Playing</td>\n",
              "    </tr>\n",
              "    <tr>\n",
              "      <th>8</th>\n",
              "      <td>570.89</td>\n",
              "      <td>307.26</td>\n",
              "      <td>37.34</td>\n",
              "      <td>100.82</td>\n",
              "      <td>Shooter</td>\n",
              "    </tr>\n",
              "    <tr>\n",
              "      <th>9</th>\n",
              "      <td>181.04</td>\n",
              "      <td>112.68</td>\n",
              "      <td>63.46</td>\n",
              "      <td>31.24</td>\n",
              "      <td>Simulation</td>\n",
              "    </tr>\n",
              "    <tr>\n",
              "      <th>10</th>\n",
              "      <td>664.33</td>\n",
              "      <td>369.69</td>\n",
              "      <td>134.58</td>\n",
              "      <td>131.73</td>\n",
              "      <td>Sports</td>\n",
              "    </tr>\n",
              "    <tr>\n",
              "      <th>11</th>\n",
              "      <td>67.82</td>\n",
              "      <td>44.70</td>\n",
              "      <td>48.13</td>\n",
              "      <td>11.20</td>\n",
              "      <td>Strategy</td>\n",
              "    </tr>\n",
              "  </tbody>\n",
              "</table>\n",
              "</div>"
            ],
            "text/plain": [
              "    NA_Sales  EU_Sales  JP_Sales  Other_Sales         Genre\n",
              "0     855.96    512.52    155.73       183.64        Action\n",
              "1     101.33     63.32     51.79        16.64     Adventure\n",
              "2     220.11     99.72     86.39        36.10      Fighting\n",
              "3     394.29    207.68    103.71        72.54          Misc\n",
              "4     442.46    199.40    129.22        51.15      Platform\n",
              "5     121.00     50.39     56.19        12.39        Puzzle\n",
              "6     353.57    234.20     55.42        76.23        Racing\n",
              "7     307.08    176.31    336.25        54.71  Role-Playing\n",
              "8     570.89    307.26     37.34       100.82       Shooter\n",
              "9     181.04    112.68     63.46        31.24    Simulation\n",
              "10    664.33    369.69    134.58       131.73        Sports\n",
              "11     67.82     44.70     48.13        11.20      Strategy"
            ]
          },
          "metadata": {
            "tags": []
          },
          "execution_count": 45
        }
      ]
    },
    {
      "cell_type": "code",
      "metadata": {
        "id": "dcW5mJ_Kad7D",
        "outputId": "2a74a6a3-0ad9-4990-af8b-0481d112c853",
        "colab": {
          "base_uri": "https://localhost:8080/",
          "height": 916
        }
      },
      "source": [
        "import matplotlib.pyplot as plt\n",
        "\n",
        "plt.figure(figsize=(16, 16))\n",
        "plt.subplot(221)\n",
        "plt.title('NA_Sales')\n",
        "plt.pie(obs_region['NA_Sales'], labels=obs_region['Genre'], autopct='%.1f%%')\n",
        " \n",
        "plt.subplot(222)\n",
        "plt.title('EU_Sales')\n",
        "plt.pie(obs_region['EU_Sales'], labels=obs_region['Genre'], autopct='%.1f%%')\n",
        " \n",
        "plt.subplot(223)\n",
        "plt.title('JP_Sales')\n",
        "plt.pie(obs_region['JP_Sales'], labels=obs_region['Genre'], autopct='%.1f%%')\n",
        " \n",
        "plt.subplot(224)\n",
        "plt.title('Other_Sales')\n",
        "plt.pie(obs_region['Other_Sales'], labels=obs_region['Genre'], autopct='%.1f%%')\n",
        "\n",
        "plt.show()"
      ],
      "execution_count": 57,
      "outputs": [
        {
          "output_type": "display_data",
          "data": {
            "image/png": "[encoded data removed]",
            "text/plain": [
              "<Figure size 1152x1152 with 4 Axes>"
            ]
          },
          "metadata": {
            "tags": []
          }
        }
      ]
    },
    {
      "cell_type": "markdown",
      "metadata": {
        "id": "CHRAxKVWNz7P"
      },
      "source": [
        "#### 연도별 게임의 트렌드가 있을까 (게임의 트렌드라는 말을 장르로 인식) \n",
        "> 4가지의 Sales 칼럼을 모두 모은 Total_Sales 칼럼을 만들어, *x=출시연도 & y=Total_Sales & hue=장르*로 **선그래프**로시각화, 연도와 토탈세일에 대한 차이가 있는지 확인하기 위해 **T-test** 나 **chi-square-test**, **chi2_contingency**사용\n"
      ]
    },
    {
      "cell_type": "code",
      "metadata": {
        "id": "z_dudZ4NN0JY"
      },
      "source": [
        ""
      ],
      "execution_count": null,
      "outputs": []
    },
    {
      "cell_type": "markdown",
      "metadata": {
        "id": "HWGEEiX1N2g8"
      },
      "source": [
        "#### 출고량이 높은 게임에 대한 분석 및 시각화 프로세스 \n",
        "> 위에서 만든 Total_Sales 라는 칼럼을 이용, **누적그래프**를 이용해서 출고량이 제일 많다는 것 보여주기, 출고량 상위 30가지 항목이용\n"
      ]
    },
    {
      "cell_type": "code",
      "metadata": {
        "id": "lg0Nolm0N3Pg"
      },
      "source": [
        ""
      ],
      "execution_count": null,
      "outputs": []
    },
    {
      "cell_type": "markdown",
      "metadata": {
        "id": "f63jAdkvN4Nz"
      },
      "source": [
        "#### 연도별 플랫폼에도 트렌드가 있을까 \n",
        "> 4가지의 Sales 칼럼을 모두 모은 Total_Sales 칼럼을 만들어, *x=출시연도 & y=Total_Sales & hue=플랫폼*으로 **선그래프**로시각화, 연도와 토탈세일에 대한 차이가 있는지 확인하기 위해 **T-test** 나 **chi-square-test**, **chi2_contingency**사용\n"
      ]
    },
    {
      "cell_type": "code",
      "metadata": {
        "id": "9UrV6LPHN4hr"
      },
      "source": [
        ""
      ],
      "execution_count": null,
      "outputs": []
    },
    {
      "cell_type": "markdown",
      "metadata": {
        "id": "DtQwf8c6N46T"
      },
      "source": [
        "#### 제일 선호되는 회사와 지역에 따라서 선호하는 회사가 다를까 \n",
        "> 전체적으로 랭킹 상위30 (575개의 회사), **파이그래프**로 각 지역에 따른 분포를 보여주기, 4개의 지역에 따른 회사 선호 장르를 차이를 따지기 위해 **ANOVA**사용(자국의 회사를 선호하는지?, 자국인지는 구글링 해보기)\n"
      ]
    },
    {
      "cell_type": "markdown",
      "metadata": {
        "id": "PZcZpFPwPspo"
      },
      "source": [
        ""
      ]
    },
    {
      "cell_type": "code",
      "metadata": {
        "id": "91W0LV4SN5Tl"
      },
      "source": [
        ""
      ],
      "execution_count": null,
      "outputs": []
    },
    {
      "cell_type": "markdown",
      "metadata": {
        "id": "zSjjtALoOKWB"
      },
      "source": [
        "#### 출시이후 평균 판매량은 어떤지 확인하기, 전체적으로도, 지역별로 그룹해서도, 또한 순위 재평가(상위 30개 게임)\n",
        "> 출시이후 평균 판매량=총판매량/(지금년도-출시년도+1) 라는 수식을 사용(지금의 판매량은 누적이기 때문에 늦게 출시된 제품의 판매량이 떨어질 수 밖에 없다고 판단), 꾸준히 인기가 있는 게임이 있다면 원인은 무엇일까?"
      ]
    },
    {
      "cell_type": "code",
      "metadata": {
        "id": "xuwE5EnZOLPk"
      },
      "source": [
        ""
      ],
      "execution_count": null,
      "outputs": []
    }
  ]
}