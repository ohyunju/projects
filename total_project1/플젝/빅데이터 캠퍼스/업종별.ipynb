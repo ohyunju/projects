{
 "cells": [
  {
   "cell_type": "code",
   "execution_count": 4,
   "metadata": {},
   "outputs": [],
   "source": [
    "import pandas as pd"
   ]
  },
  {
   "cell_type": "code",
   "execution_count": 7,
   "metadata": {},
   "outputs": [],
   "source": [
    "upjong = pd.read_csv(\"E:/oyj/063. 서울시민의 업종별 카드소비 패턴 데이터/2. 파일데이터/서울시민 카드소비 업종코드.csv\")"
   ]
  },
  {
   "cell_type": "code",
   "execution_count": 8,
   "metadata": {},
   "outputs": [],
   "source": [
    "upjong_detail_dic = {}\n",
    "for num in range(len(upjong)):\n",
    "    upjong_detail_dic[(upjong['UPJONG_CD'][num]).upper()] = upjong['CLASS3'][num]"
   ]
  },
  {
   "cell_type": "code",
   "execution_count": 13,
   "metadata": {},
   "outputs": [],
   "source": [
    "filepath = \"E:/oyj/063. 서울시민의 업종별 카드소비 패턴 데이터/2. 파일데이터/블록_성별연령대별/블록_성별연령대별_20\""
   ]
  },
  {
   "cell_type": "code",
   "execution_count": 14,
   "metadata": {},
   "outputs": [],
   "source": [
    "def get_data(filepath,y,m):\n",
    "    data = pd.read_csv(filepath + y + m +\".txt\"\n",
    "               , sep='|',encoding='utf-8',quotechar='`') \n",
    "    data = data[['서울시민업종코드','기준년월','성별','연령대별','카드이용금액계','카드이용건수계']]\n",
    "    data['서울시민업종코드'] = data['서울시민업종코드'].map(upjong_detail_dic)\n",
    "    return data"
   ]
  },
  {
   "cell_type": "code",
   "execution_count": 15,
   "metadata": {},
   "outputs": [],
   "source": [
    "data_1801 = get_data(filepath,'18','01')"
   ]
  },
  {
   "cell_type": "code",
   "execution_count": 17,
   "metadata": {},
   "outputs": [],
   "source": [
    "# data_1801"
   ]
  },
  {
   "cell_type": "code",
   "execution_count": 18,
   "metadata": {},
   "outputs": [],
   "source": [
    "def get_yeardata(filepath,y):\n",
    "    sum_data = pd.DataFrame()\n",
    "    month = ['01','02','03','04','05','06','07','08','09','10','11','12']\n",
    "    \n",
    "    for m in month:\n",
    "        data = pd.read_csv(filepath + y + m +\".txt\"\n",
    "               , sep='|',encoding='utf-8',quotechar='`') \n",
    "        data = data[['서울시민업종코드','기준년월','성별','연령대별','카드이용금액계','카드이용건수계']]\n",
    "        data['서울시민업종코드'] = data['서울시민업종코드'].map(upjong_detail_dic)\n",
    "        data['date'] = y+m\n",
    "        sum_data = pd.concat([sum_data,data])\n",
    "        \n",
    "    return sum_data"
   ]
  },
  {
   "cell_type": "code",
   "execution_count": 24,
   "metadata": {},
   "outputs": [],
   "source": [
    "def age_topupjong(age,data):\n",
    "    df = pd.DataFrame()\n",
    "    tmp_data = pd.DataFrame()\n",
    "    tmp_data = data[(data['연령대별']==age)]\n",
    "    tmp_data = tmp_data.groupby(['서울시민업종코드']).sum()\n",
    "    tmp_data = tmp_data.sort_values(by=['카드이용금액계'], ascending=[False])[:10]\n",
    "    df['upjong']= tmp_data.index\n",
    "    df['age'] = age\n",
    "    df['카드이용금액합계'] = list(tmp_data['카드이용금액계'])\n",
    "    return df"
   ]
  },
  {
   "cell_type": "code",
   "execution_count": 20,
   "metadata": {},
   "outputs": [],
   "source": [
    "def concat_topupjong(data):\n",
    "    df_10 = age_topupjong('10대',data)\n",
    "    df_20 = age_topupjong('20대',data)\n",
    "    df_30 = age_topupjong('30대',data)\n",
    "    df_40 = age_topupjong('40대',data)\n",
    "    df_50 = age_topupjong('50대',data)\n",
    "    df_60 = age_topupjong('60대',data)\n",
    "    df_70 = age_topupjong('70대이상',data)\n",
    "    concat_topupjong = pd.DataFrame()\n",
    "    concat_topupjong = pd.concat([df_10,df_20,df_30,df_40,df_50,df_60,df_70])\n",
    "    return concat_topupjong"
   ]
  },
  {
   "cell_type": "code",
   "execution_count": 22,
   "metadata": {},
   "outputs": [],
   "source": [
    "def save_yeartopupjong(year):\n",
    "    data = get_yeardata(filepath,year)\n",
    "    topupjong = concat_topupjong(data)\n",
    "    topupjong.to_csv('E:/oyj/result3/'+year+'_topupjong_local.csv')"
   ]
  },
  {
   "cell_type": "code",
   "execution_count": null,
   "metadata": {},
   "outputs": [],
   "source": [
    "year = ['18', '19', '20'] \n",
    "\n",
    "for y in year: \n",
    "    save_yeartopupjong(y)"
   ]
  },
  {
   "cell_type": "code",
   "execution_count": null,
   "metadata": {},
   "outputs": [],
   "source": []
  },
  {
   "cell_type": "code",
   "execution_count": null,
   "metadata": {},
   "outputs": [],
   "source": []
  }
 ],
 "metadata": {
  "kernelspec": {
   "display_name": "Python 3",
   "language": "python",
   "name": "python3"
  },
  "language_info": {
   "codemirror_mode": {
    "name": "ipython",
    "version": 3
   },
   "file_extension": ".py",
   "mimetype": "text/x-python",
   "name": "python",
   "nbconvert_exporter": "python",
   "pygments_lexer": "ipython3",
   "version": "3.7.3"
  }
 },
 "nbformat": 4,
 "nbformat_minor": 2
}
