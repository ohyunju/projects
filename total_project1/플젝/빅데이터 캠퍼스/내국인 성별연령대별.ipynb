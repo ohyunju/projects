{
 "cells": [
  {
   "cell_type": "code",
   "execution_count": 1,
   "metadata": {},
   "outputs": [],
   "source": [
    "import pandas as pd"
   ]
  },
  {
   "cell_type": "markdown",
   "metadata": {},
   "source": [
    "       "
   ]
  },
  {
   "cell_type": "markdown",
   "metadata": {},
   "source": [
    "### 내국인 업종코드"
   ]
  },
  {
   "cell_type": "code",
   "execution_count": 2,
   "metadata": {},
   "outputs": [],
   "source": [
    "upjong = pd.read_csv(\"E:/oyj/042. 서울시 업종별 내외국인 신한카드 매출데이터/2. 파일데이터/TB_SHCARD_LOCAL_63UPJONG_DIM.txt\"\n",
    "                     , sep='|',encoding='utf-8',quotechar='`')"
   ]
  },
  {
   "cell_type": "markdown",
   "metadata": {},
   "source": [
    "upjong.head()"
   ]
  },
  {
   "cell_type": "code",
   "execution_count": 3,
   "metadata": {},
   "outputs": [],
   "source": [
    "upjong_detail_dic = {}\n",
    "for num in range(len(upjong)):\n",
    "    upjong_detail_dic[(upjong['SB_UPJONG_CD'][num]).upper()] = upjong['SB_UPJONG_NM'][num]\n"
   ]
  },
  {
   "cell_type": "markdown",
   "metadata": {},
   "source": [
    "upjong_detail_dic"
   ]
  },
  {
   "cell_type": "markdown",
   "metadata": {},
   "source": [
    "## 내국인"
   ]
  },
  {
   "cell_type": "code",
   "execution_count": 4,
   "metadata": {},
   "outputs": [],
   "source": [
    "native_filepath = \"E:/oyj/042. 서울시 업종별 내외국인 신한카드 매출데이터/2. 파일데이터/2. 내국인(집계구)_성별연령대별/SEOUL_KOR_TOTREG_DEMO_\""
   ]
  },
  {
   "cell_type": "markdown",
   "metadata": {},
   "source": [
    "### 전체 데이터 한번에 묶기"
   ]
  },
  {
   "cell_type": "markdown",
   "metadata": {},
   "source": [
    "year = ['18', '19', '20']\n",
    "month = ['01','02','03','04','05','06','07','08','09','10','11','12']\n",
    "\n",
    "native_data = pd.DataFrame()\n",
    "for y in year:\n",
    "    for m in month:\n",
    "        data = pd.read_csv(native_filepath + y + m +\".txt\"\n",
    "                           , sep='|',encoding='utf-8',quotechar='`')   \n",
    "        native_data = pd.concat([native_data,data])\n"
   ]
  },
  {
   "cell_type": "markdown",
   "metadata": {},
   "source": [
    "native_data \n",
    "너무 시간이 많이 걸림"
   ]
  },
  {
   "cell_type": "markdown",
   "metadata": {},
   "source": [
    "### 데이터 가져오는 함수"
   ]
  },
  {
   "cell_type": "code",
   "execution_count": 5,
   "metadata": {},
   "outputs": [],
   "source": [
    "def get_data(filepath,y,m):\n",
    "    data = pd.read_csv(filepath + y + m +\".txt\"\n",
    "               , sep='|',encoding='utf-8',quotechar='`') \n",
    "    return data"
   ]
  },
  {
   "cell_type": "code",
   "execution_count": 6,
   "metadata": {},
   "outputs": [],
   "source": [
    "native_1801 = get_data(native_filepath,'18','01')"
   ]
  },
  {
   "cell_type": "code",
   "execution_count": 7,
   "metadata": {},
   "outputs": [],
   "source": [
    "native_18 = pd.DataFrame()\n",
    "native_18 = pd.concat([native_18,native_1801])"
   ]
  },
  {
   "cell_type": "code",
   "execution_count": 8,
   "metadata": {},
   "outputs": [],
   "source": [
    "column = ['내국인업종코드','개입법인구분','성별','연령대별','카드이용금액계','카드이용건수계']\n",
    "native_1801 = native_1801[column]   "
   ]
  },
  {
   "cell_type": "code",
   "execution_count": 9,
   "metadata": {},
   "outputs": [],
   "source": [
    "# # 조심해서 사용할것\n",
    "# native_1801['내국인업종코드'] = native_1801['내국인업종코드'].map(upjong_detail_dic)\n",
    "# native_1801.head()"
   ]
  },
  {
   "cell_type": "markdown",
   "metadata": {},
   "source": [
    "### sum으로 그룹하기"
   ]
  },
  {
   "cell_type": "markdown",
   "metadata": {
    "scrolled": false
   },
   "source": [
    "native_1801_sum = native_1801.groupby(['개입법인구분','성별','연령대별','내국인업종코드']).sum()\n",
    "native_1801_sum.head()"
   ]
  },
  {
   "cell_type": "markdown",
   "metadata": {},
   "source": [
    "native_1801_sum2 = native_1801.groupby(['내국인업종코드','개입법인구분','성별','연령대별']).sum()\n",
    "native_1801_sum2"
   ]
  },
  {
   "cell_type": "code",
   "execution_count": 10,
   "metadata": {},
   "outputs": [],
   "source": [
    "# # 그룹화\n",
    "# native_1801_sum_age = native_1801.groupby(['연령대별','내국인업종코드']).sum()\n",
    "# native_1801_sum_age.head()"
   ]
  },
  {
   "cell_type": "code",
   "execution_count": 11,
   "metadata": {},
   "outputs": [
    {
     "data": {
      "text/plain": [
       "<pandas.core.groupby.generic.DataFrameGroupBy object at 0x00000044ACBA3438>"
      ]
     },
     "execution_count": 11,
     "metadata": {},
     "output_type": "execute_result"
    }
   ],
   "source": [
    "# 정렬\n",
    "native_1801_sum_age = native_1801.sort_values(by=['연령대별','카드이용금액계'], ascending=[True,False]).groupby(['연령대별','내국인업종코드'])\n",
    "native_1801_sum_age"
   ]
  },
  {
   "cell_type": "code",
   "execution_count": null,
   "metadata": {},
   "outputs": [],
   "source": []
  },
  {
   "cell_type": "code",
   "execution_count": null,
   "metadata": {},
   "outputs": [],
   "source": []
  },
  {
   "cell_type": "code",
   "execution_count": null,
   "metadata": {},
   "outputs": [],
   "source": []
  },
  {
   "cell_type": "markdown",
   "metadata": {},
   "source": [
    "### mean으로 그룹하기"
   ]
  },
  {
   "cell_type": "markdown",
   "metadata": {},
   "source": [
    "native_1801_avg = native_1801.groupby(['개입법인구분','성별','연령대별','내국인업종코드']).mean()\n",
    "native_1801_avg"
   ]
  },
  {
   "cell_type": "code",
   "execution_count": null,
   "metadata": {},
   "outputs": [],
   "source": []
  },
  {
   "cell_type": "code",
   "execution_count": null,
   "metadata": {},
   "outputs": [],
   "source": []
  },
  {
   "cell_type": "code",
   "execution_count": null,
   "metadata": {},
   "outputs": [],
   "source": []
  }
 ],
 "metadata": {
  "kernelspec": {
   "display_name": "Python 3",
   "language": "python",
   "name": "python3"
  },
  "language_info": {
   "codemirror_mode": {
    "name": "ipython",
    "version": 3
   },
   "file_extension": ".py",
   "mimetype": "text/x-python",
   "name": "python",
   "nbconvert_exporter": "python",
   "pygments_lexer": "ipython3",
   "version": "3.7.3"
  }
 },
 "nbformat": 4,
 "nbformat_minor": 2
}
