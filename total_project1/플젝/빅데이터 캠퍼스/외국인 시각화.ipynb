{
 "cells": [
  {
   "cell_type": "code",
   "execution_count": 2,
   "metadata": {},
   "outputs": [],
   "source": [
    "import pandas as pd"
   ]
  },
  {
   "cell_type": "code",
   "execution_count": 3,
   "metadata": {},
   "outputs": [],
   "source": [
    "hap18 = pd.read_csv(\"E:/oyj/result/18hap_topupjong_fore.csv\")\n",
    "hap18['year'] = 2018\n",
    "# hap18.head()"
   ]
  },
  {
   "cell_type": "code",
   "execution_count": 4,
   "metadata": {},
   "outputs": [],
   "source": [
    "hap19 = pd.read_csv(\"E:/oyj/result/19hap_topupjong_fore.csv\")\n",
    "hap19['year'] = 2019"
   ]
  },
  {
   "cell_type": "code",
   "execution_count": 5,
   "metadata": {},
   "outputs": [],
   "source": [
    "hap20 = pd.read_csv(\"E:/oyj/result/20hap_topupjong_fore.csv\")\n",
    "hap20['year'] = 2020"
   ]
  },
  {
   "cell_type": "code",
   "execution_count": 6,
   "metadata": {},
   "outputs": [],
   "source": [
    "hap = pd.concat([hap18,hap19,hap20])\n",
    "hap['카드이용금액계'] = hap['카드이용금액계']/100000000\n",
    "# hap.head()"
   ]
  },
  {
   "cell_type": "code",
   "execution_count": 7,
   "metadata": {},
   "outputs": [],
   "source": [
    "import matplotlib.pyplot as plt\n",
    "import seaborn as sns"
   ]
  },
  {
   "cell_type": "markdown",
   "metadata": {},
   "source": [
    "#### 한글 폰트 깨짐 해결"
   ]
  },
  {
   "cell_type": "code",
   "execution_count": 8,
   "metadata": {},
   "outputs": [],
   "source": [
    "import matplotlib\n",
    "import matplotlib.font_manager as fm\n",
    "font_name = fm.FontProperties(fname='C:\\Windows\\Fonts\\malgun.ttf').get_name()\n",
    "matplotlib.rc('font', family = font_name)\n",
    "matplotlib.rcParams['axes.unicode_minus']=False\n",
    "\n",
    "# font_path = r'C:\\Windows\\Fonts\\gulim.ttc'\n",
    "# fontprop = fm.FontProperties(fname=font_path)"
   ]
  },
  {
   "cell_type": "code",
   "execution_count": 9,
   "metadata": {
    "scrolled": true
   },
   "outputs": [
    {
     "data": {
      "text/plain": [
       "['Malgun Gothic']"
      ]
     },
     "execution_count": 9,
     "metadata": {},
     "output_type": "execute_result"
    }
   ],
   "source": [
    "matplotlib.rcParams['font.family']"
   ]
  },
  {
   "cell_type": "code",
   "execution_count": 10,
   "metadata": {},
   "outputs": [],
   "source": [
    "import numpy as np\n",
    "\n",
    "label = hap['year'].unique()\n",
    "index = np.arange(len(label))\n",
    "legend = hap['외국인관광업종코드'].unique()\n",
    "alpha = 0.4"
   ]
  },
  {
   "cell_type": "code",
   "execution_count": 11,
   "metadata": {},
   "outputs": [],
   "source": [
    "grape_01 = hap[hap['외국인관광업종코드'] == legend[0]]\n",
    "grape_02 = hap[hap['외국인관광업종코드'] == legend[1]]\n",
    "grape_03 = hap[hap['외국인관광업종코드'] == legend[2]]\n",
    "grape_04 = hap[hap['외국인관광업종코드'] == legend[3]]\n",
    "grape_05 = hap[hap['외국인관광업종코드'] == legend[4]]\n",
    "grape_06 = hap[hap['외국인관광업종코드'] == legend[5]]\n",
    "\n",
    "# grape_05"
   ]
  },
  {
   "cell_type": "markdown",
   "metadata": {},
   "source": [
    "p01 = plt.bar(label,grape_01)\n",
    "p02 = plt.bar(label,grape_02)\n",
    "p03 = plt.bar(label,grape_03)\n",
    "p04 = plt.bar(label,grape_04)\n",
    "plt.show()"
   ]
  },
  {
   "cell_type": "code",
   "execution_count": null,
   "metadata": {},
   "outputs": [],
   "source": []
  },
  {
   "cell_type": "markdown",
   "metadata": {},
   "source": [
    "grape_01 = hap[hap['외국인관광업종코드'] == legend[0]].groupby('year')['카드이용금액계'].sum()\n",
    "grape_02 = hap[hap['외국인관광업종코드'] == legend[1]].groupby('year')['카드이용금액계'].sum()\n",
    "grape_03 = hap[hap['외국인관광업종코드'] == legend[2]].groupby('year')['카드이용금액계'].sum()\n",
    "grape_04 = hap[hap['외국인관광업종코드'] == legend[3]].groupby('year')['카드이용금액계'].sum()\n",
    "grape_05 = hap[hap['외국인관광업종코드'] == legend[4]].groupby('year')['카드이용금액계'].sum()\n",
    "grape_06 = hap[hap['외국인관광업종코드'] == legend[5]].groupby('year')['카드이용금액계'].sum()\n",
    "grape_07 = hap[hap['외국인관광업종코드'] == legend[6]].groupby('year')['카드이용금액계'].sum()\n",
    "grape_08 = hap[hap['외국인관광업종코드'] == legend[7]].groupby('year')['카드이용금액계'].sum()\n",
    "grape_09 = hap[hap['외국인관광업종코드'] == legend[8]].groupby('year')['카드이용금액계'].sum()\n",
    "grape_10 = hap[hap['외국인관광업종코드'] == legend[9]].groupby('year')['카드이용금액계'].sum()\n",
    "grape_11 = hap[hap['외국인관광업종코드'] == legend[10]].groupby('year')['카드이용금액계'].sum()\n",
    "grape_12 = hap[hap['외국인관광업종코드'] == legend[11]].groupby('year')['카드이용금액계'].sum()\n",
    "\n",
    "p01 = plt.bar(index,grape_01, alpha=alpha)\n",
    "p02 = plt.bar(index,grape_02, bottom = grape_01, alpha=alpha)\n",
    "p03 = plt.bar(index,grape_03, bottom = grape_02, alpha=alpha)\n",
    "p04 = plt.bar(index,grape_04, bottom = grape_03, alpha=alpha)\n",
    "p05 = plt.bar(index,grape_05, bottom = grape_04, alpha=alpha)\n",
    "p06 = plt.bar(index,grape_06, bottom = grape_05, alpha=alpha)\n",
    "p07 = plt.bar(index,grape_07, bottom = grape_06, alpha=alpha)\n",
    "p08 = plt.bar(index,grape_08, bottom = grape_07, alpha=alpha)\n",
    "p09 = plt.bar(index,grape_09, bottom = grape_08, alpha=alpha)\n",
    "p10 = plt.bar(index,grape_10, bottom = grape_09, alpha=alpha)\n",
    "p11 = plt.bar(index,grape_11, bottom = grape_10, alpha=alpha)\n",
    "p12 = plt.bar(index,grape_12, bottom = grape_11, alpha=alpha)\n",
    "\n",
    "plt.ylabel('카드이용금액',fontsize =18)\n",
    "plt.xlabel('Year',fontsize =18)\n",
    "plt.xticks(index, label, fontsize =15)\n",
    "plt.legend((p01[0],p02[0],p03[0],p04[0],p05[0],p06[0],p07[0],p08[0],p09[0],p10[0],p11[0],p12[0]),legend)\n",
    "\n",
    "plt.figure(figsize=(25,22))\n",
    "plt.show()"
   ]
  },
  {
   "cell_type": "code",
   "execution_count": 12,
   "metadata": {},
   "outputs": [],
   "source": [
    "grape_01 = list(hap[hap['외국인관광업종코드'] == legend[0]]['카드이용금액계'])"
   ]
  },
  {
   "cell_type": "code",
   "execution_count": 13,
   "metadata": {},
   "outputs": [
    {
     "data": {
      "text/plain": [
       "0        백화점\n",
       "1      호텔/콘도\n",
       "2        면세점\n",
       "3      의복/의류\n",
       "4       일반병원\n",
       "5        화장품\n",
       "6         한식\n",
       "7    기타음/식료품\n",
       "Name: 외국인관광업종코드, dtype: object"
      ]
     },
     "execution_count": 13,
     "metadata": {},
     "output_type": "execute_result"
    }
   ],
   "source": [
    "new_legend = hap['외국인관광업종코드'][:8]\n",
    "new_legend"
   ]
  },
  {
   "cell_type": "code",
   "execution_count": 14,
   "metadata": {},
   "outputs": [
    {
     "data": {
      "image/png": "[encoded data removed]",
      "text/plain": [
       "<Figure size 432x288 with 1 Axes>"
      ]
     },
     "metadata": {
      "needs_background": "light"
     },
     "output_type": "display_data"
    },
    {
     "data": {
      "text/plain": [
       "<Figure size 3600x1800 with 0 Axes>"
      ]
     },
     "metadata": {},
     "output_type": "display_data"
    }
   ],
   "source": [
    "grape_01 = list(hap[hap['외국인관광업종코드'] == new_legend[0]]['카드이용금액계'])\n",
    "grape_02 = list(hap[hap['외국인관광업종코드'] == new_legend[1]]['카드이용금액계'])\n",
    "grape_03 = list(hap[hap['외국인관광업종코드'] == new_legend[2]]['카드이용금액계'])\n",
    "grape_04 = list(hap[hap['외국인관광업종코드'] == new_legend[3]]['카드이용금액계'])\n",
    "grape_05 = list(hap[hap['외국인관광업종코드'] == new_legend[4]]['카드이용금액계'])\n",
    "grape_06 = list(hap[hap['외국인관광업종코드'] == new_legend[5]]['카드이용금액계'])\n",
    "grape_07 = list(hap[hap['외국인관광업종코드'] == legend[6]]['카드이용금액계'])\n",
    "grape_08 = list(hap[hap['외국인관광업종코드'] == legend[7]]['카드이용금액계'])\n",
    "\n",
    "bottom1 = grape_01\n",
    "bottom2 = [x+y for x,y in zip(bottom1,grape_02)]\n",
    "bottom3 = [x+y for x,y in zip(bottom2,grape_03)]\n",
    "bottom4 = [x+y for x,y in zip(bottom3,grape_04)]\n",
    "bottom5 = [x+y for x,y in zip(bottom4,grape_05)]\n",
    "bottom6 = [x+y for x,y in zip(bottom5,grape_06)]\n",
    "bottom7 = [x+y for x,y in zip(bottom6,grape_07)]\n",
    "bar = [int(x+y) for x,y in zip(bottom7,grape_08)]\n",
    "\n",
    "alpha = 0.7\n",
    "p01 = plt.bar(label,grape_01,alpha = alpha)\n",
    "p02 = plt.bar(label,grape_02, bottom =bottom1,alpha = alpha)\n",
    "p03 = plt.bar(label,grape_03, bottom =bottom2,alpha = alpha)\n",
    "p04 = plt.bar(label,grape_04, bottom =bottom3,alpha = alpha)\n",
    "p05 = plt.bar(label,grape_05, bottom =bottom4,alpha = alpha)\n",
    "p06 = plt.bar(label,grape_06, bottom =bottom5,alpha = alpha)\n",
    "p07 = plt.bar(label,grape_07, bottom =bottom6,alpha = alpha)\n",
    "p08 = plt.bar(label,grape_08, bottom =bottom7,alpha = alpha)\n",
    "plt.plot(label,bar, color = 'black')\n",
    "\n",
    "plt.title('업종별(8개) 외국인 사용내역',fontsize =20)\n",
    "plt.ylabel('카드이용금액(억)',fontsize =15)\n",
    "plt.xlabel('년도',fontsize =15)\n",
    "plt.legend((p01[0],p02[0],p03[0],p04[0],p05[0],p06[0],p07[0],p08[0]),new_legend, bbox_to_anchor=(1,0.5))\n",
    "plt.xticks(label)\n",
    "plt.yticks([0,10000,20000,30000,40000])\n",
    "\n",
    "for i, v in enumerate(label):\n",
    "    plt.text(v,bar[i],bar[i],\n",
    "            fontsize=15,\n",
    "            color='black',\n",
    "            horizontalalignment='center',\n",
    "            verticalalignment='bottom')\n",
    "    \n",
    "plt.figure(figsize=(50,25))\n",
    "plt.show()"
   ]
  },
  {
   "cell_type": "markdown",
   "metadata": {},
   "source": [
    "## 누적 100%막대"
   ]
  },
  {
   "cell_type": "code",
   "execution_count": 15,
   "metadata": {},
   "outputs": [
    {
     "data": {
      "image/png": "[encoded data removed]",
      "text/plain": [
       "<Figure size 432x288 with 1 Axes>"
      ]
     },
     "metadata": {
      "needs_background": "light"
     },
     "output_type": "display_data"
    },
    {
     "data": {
      "text/plain": [
       "<Figure size 3600x2160 with 0 Axes>"
      ]
     },
     "metadata": {},
     "output_type": "display_data"
    }
   ],
   "source": [
    "hap = [x+y for x,y in zip(bottom7,grape_08)]\n",
    "\n",
    "nu_grape_01 = [x/y for x,y in zip(grape_01,hap)]\n",
    "nu_grape_02 = [x/y for x,y in zip(grape_02,hap)]\n",
    "nu_grape_03 = [x/y for x,y in zip(grape_03,hap)]\n",
    "nu_grape_04 = [x/y for x,y in zip(grape_04,hap)]\n",
    "nu_grape_05 = [x/y for x,y in zip(grape_05,hap)]\n",
    "nu_grape_06 = [x/y for x,y in zip(grape_06,hap)]\n",
    "nu_grape_07 = [x/y for x,y in zip(grape_07,hap)]\n",
    "nu_grape_08 = [x/y for x,y in zip(grape_08,hap)]\n",
    "\n",
    "nu_bottom1 = nu_grape_01\n",
    "nu_bottom2 = [x+y for x,y in zip(nu_bottom1,nu_grape_02)]\n",
    "nu_bottom3 = [x+y for x,y in zip(nu_bottom2,nu_grape_03)]\n",
    "nu_bottom4 = [x+y for x,y in zip(nu_bottom3,nu_grape_04)]\n",
    "nu_bottom5 = [x+y for x,y in zip(nu_bottom4,nu_grape_05)]\n",
    "nu_bottom6 = [x+y for x,y in zip(nu_bottom5,nu_grape_06)]\n",
    "nu_bottom7 = [x+y for x,y in zip(nu_bottom6,nu_grape_07)]\n",
    "\n",
    "alpha = 0.7\n",
    "nu_p01 = plt.bar(label,nu_grape_01,alpha = alpha)\n",
    "nu_p02 = plt.bar(label,nu_grape_02, bottom =nu_bottom1,alpha = alpha)\n",
    "nu_p03 = plt.bar(label,nu_grape_03, bottom =nu_bottom2,alpha = alpha)\n",
    "nu_p04 = plt.bar(label,nu_grape_04, bottom =nu_bottom3,alpha = alpha)\n",
    "nu_p05 = plt.bar(label,nu_grape_05, bottom =nu_bottom4,alpha = alpha)\n",
    "nu_p06 = plt.bar(label,nu_grape_06, bottom =nu_bottom5,alpha = alpha)\n",
    "nu_p07 = plt.bar(label,nu_grape_07, bottom =nu_bottom6,alpha = alpha)\n",
    "nu_p08 = plt.bar(label,nu_grape_08, bottom =nu_bottom7,alpha = alpha)\n",
    "\n",
    "plt.plot(label,nu_bottom1)\n",
    "plt.plot(label,nu_bottom2)\n",
    "plt.plot(label,nu_bottom3)\n",
    "plt.plot(label,nu_bottom4)\n",
    "plt.plot(label,nu_bottom5)\n",
    "plt.plot(label,nu_bottom6)\n",
    "plt.plot(label,nu_bottom7)\n",
    "\n",
    "plt.title('누적 100%, 업종별(8개) 외국인',fontsize =20)\n",
    "plt.xlabel('년도',fontsize =15)\n",
    "plt.legend((p01[0],p02[0],p03[0],p04[0],p05[0],p06[0],p07[0],p08[0]),new_legend, bbox_to_anchor=(1,0.5))\n",
    "plt.xticks(label)\n",
    "\n",
    "    \n",
    "plt.figure(figsize=(50,30))\n",
    "plt.show()"
   ]
  },
  {
   "cell_type": "code",
   "execution_count": null,
   "metadata": {},
   "outputs": [],
   "source": []
  },
  {
   "cell_type": "code",
   "execution_count": null,
   "metadata": {},
   "outputs": [],
   "source": []
  },
  {
   "cell_type": "code",
   "execution_count": null,
   "metadata": {},
   "outputs": [],
   "source": []
  }
 ],
 "metadata": {
  "kernelspec": {
   "display_name": "Python 3",
   "language": "python",
   "name": "python3"
  },
  "language_info": {
   "codemirror_mode": {
    "name": "ipython",
    "version": 3
   },
   "file_extension": ".py",
   "mimetype": "text/x-python",
   "name": "python",
   "nbconvert_exporter": "python",
   "pygments_lexer": "ipython3",
   "version": "3.7.3"
  }
 },
 "nbformat": 4,
 "nbformat_minor": 2
}
