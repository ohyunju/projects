{
 "cells": [
  {
   "cell_type": "code",
   "execution_count": 1,
   "metadata": {},
   "outputs": [],
   "source": [
    "import pandas as pd"
   ]
  },
  {
   "cell_type": "code",
   "execution_count": 2,
   "metadata": {},
   "outputs": [],
   "source": [
    "upjong = pd.read_csv(\"E:/oyj/042. 서울시 업종별 내외국인 신한카드 매출데이터/2. 파일데이터/TB_SHCARD_FORN_56UPJONG_DIM.txt\"\n",
    "                     , sep='|',encoding='utf-8',quotechar='`')"
   ]
  },
  {
   "cell_type": "code",
   "execution_count": 3,
   "metadata": {},
   "outputs": [],
   "source": [
    "upjong_detail_dic = {}\n",
    "for num in range(len(upjong)):\n",
    "    upjong_detail_dic[(upjong['SF_UPJONG_CD'][num]).upper()] = upjong['SF_UPJONG_NM'][num]\n"
   ]
  },
  {
   "cell_type": "markdown",
   "metadata": {},
   "source": [
    "### 데이터 가져오기"
   ]
  },
  {
   "cell_type": "code",
   "execution_count": 4,
   "metadata": {},
   "outputs": [],
   "source": [
    "fore_filepath = \"E:/oyj/042. 서울시 업종별 내외국인 신한카드 매출데이터/2. 파일데이터/5. 외국인관광객(집계구)_국가별/SEOUL_FRN_TOTREG_\""
   ]
  },
  {
   "cell_type": "code",
   "execution_count": 5,
   "metadata": {},
   "outputs": [],
   "source": [
    "def get_data(filepath,y,m):\n",
    "    data = pd.read_csv(filepath + y + m +\".csv\") \n",
    "    data = data[['외국인관광업종코드','국가별','카드이용금액계','카드이용건수계']]\n",
    "    data['외국인관광업종코드'] = data['외국인관광업종코드'].map(upjong_detail_dic)\n",
    "    return data"
   ]
  },
  {
   "cell_type": "code",
   "execution_count": 6,
   "metadata": {},
   "outputs": [],
   "source": [
    "fore_1801 = get_data(fore_filepath,'18','01')"
   ]
  },
  {
   "cell_type": "code",
   "execution_count": 7,
   "metadata": {},
   "outputs": [],
   "source": [
    "# fore_1801.head()"
   ]
  },
  {
   "cell_type": "code",
   "execution_count": 8,
   "metadata": {},
   "outputs": [
    {
     "data": {
      "text/plain": [
       "['미국', '일본', '러시아', '중국', '싱가폴', '홍콩', 'ETC', '대만', '영국', '태국', '베트남']"
      ]
     },
     "execution_count": 8,
     "metadata": {},
     "output_type": "execute_result"
    }
   ],
   "source": [
    "nation = fore_1801['국가별'].unique()\n",
    "nation_list = list(nation)\n",
    "nation_list"
   ]
  },
  {
   "cell_type": "code",
   "execution_count": 9,
   "metadata": {},
   "outputs": [],
   "source": [
    "def nation_topupjong(nation,data):\n",
    "    df = pd.DataFrame()\n",
    "    tmp_data = pd.DataFrame()\n",
    "    tmp_data = data[(data['국가별']==nation)]\n",
    "    data = data.groupby(['외국인관광업종코드']).sum()\n",
    "    data = data.sort_values(by=['카드이용금액계'], ascending=[False])[:10]\n",
    "    df['upjong']= data.index\n",
    "    df['nation'] = nation\n",
    "    df['카드이용금액합계'] = list(data['카드이용금액계'])\n",
    "    return df"
   ]
  },
  {
   "cell_type": "code",
   "execution_count": 10,
   "metadata": {},
   "outputs": [],
   "source": [
    "def concat_topupjong(data,nation_list):\n",
    "    concat_topupjong = pd.DataFrame()\n",
    "    for nation in nation_list:\n",
    "        df = nation_topupjong(nation,data)\n",
    "        concat_topupjong = pd.concat([concat_topupjong,df])\n",
    "    return concat_topupjong"
   ]
  },
  {
   "cell_type": "code",
   "execution_count": 11,
   "metadata": {},
   "outputs": [],
   "source": [
    "def save_topupjong(year,month,nation_list):\n",
    "    data = get_data(fore_filepath,year,month)\n",
    "    topupjong = concat_topupjong(data,nation_list)\n",
    "    topupjong.to_csv('E:/oyj/result/'+year+month+'_topupjong_fore.csv')"
   ]
  },
  {
   "cell_type": "code",
   "execution_count": 12,
   "metadata": {},
   "outputs": [],
   "source": [
    "save_topupjong('18','01',nation_list)"
   ]
  },
  {
   "cell_type": "code",
   "execution_count": 13,
   "metadata": {},
   "outputs": [],
   "source": [
    "year = ['18', '19', '20'] \n",
    "month = ['01','02','03','04','05','06','07','08','09','10','11','12']\n",
    "\n",
    "for y in year: \n",
    "    for m in month: \n",
    "        save_topupjong(y,m,nation_list)"
   ]
  },
  {
   "cell_type": "markdown",
   "metadata": {},
   "source": [
    "### 년도별로 묶어서 가져오기"
   ]
  },
  {
   "cell_type": "code",
   "execution_count": 14,
   "metadata": {},
   "outputs": [],
   "source": [
    "def get_yeardata(filepath,y):\n",
    "    sum_data = pd.DataFrame()\n",
    "    month = ['01','02','03','04','05','06','07','08','09','10','11','12']\n",
    "    \n",
    "    for m in month:\n",
    "        data = pd.read_csv(filepath + y + m +\".csv\") \n",
    "        data = data[['외국인관광업종코드','국가별','카드이용금액계','카드이용건수계']]\n",
    "        data['외국인관광업종코드'] = data['외국인관광업종코드'].map(upjong_detail_dic)\n",
    "        data['date'] = y+m\n",
    "        sum_data = pd.concat([sum_data,data])\n",
    "        \n",
    "    return sum_data"
   ]
  },
  {
   "cell_type": "code",
   "execution_count": 15,
   "metadata": {},
   "outputs": [],
   "source": [
    "data18 = get_yeardata(fore_filepath,'18')\n",
    "# data18.head()"
   ]
  },
  {
   "cell_type": "code",
   "execution_count": 16,
   "metadata": {},
   "outputs": [],
   "source": [
    "def save_yeartopupjong(year,nation_list):\n",
    "    data = get_yeardata(fore_filepath,year)\n",
    "    topupjong = concat_topupjong(data,nation_list)\n",
    "    topupjong.to_csv('E:/oyj/result/'+year+'_topupjong_fore.csv')"
   ]
  },
  {
   "cell_type": "code",
   "execution_count": null,
   "metadata": {},
   "outputs": [],
   "source": [
    "year = ['18', '19', '20'] \n",
    "year = ['18', '19', '20'] \n",
    "\n",
    "for y in year: \n",
    "    save_yeartopupjong(y,nation_list)\n",
    "for y in year: \n",
    "    save_yeartopupjong(y,nation_list)"
   ]
  },
  {
   "cell_type": "markdown",
   "metadata": {},
   "source": [
    "###  전체적으로 따지기"
   ]
  },
  {
   "cell_type": "code",
   "execution_count": null,
   "metadata": {},
   "outputs": [],
   "source": [
    "hap18 = get_yeardata(fore_filepath,'18')\n",
    "hap18 = hap18.groupby(['외국인관광업종코드']).sum()\n",
    "hap18 = hap18.sort_values(by=['카드이용금액계'], ascending=[False])[:10]\n",
    "hap18.to_csv('E:/oyj/result/18hap_topupjong_fore.csv')"
   ]
  },
  {
   "cell_type": "code",
   "execution_count": null,
   "metadata": {},
   "outputs": [],
   "source": [
    "hap19 = get_yeardata(fore_filepath,'19')\n",
    "hap19 = hap19.groupby(['외국인관광업종코드']).sum()\n",
    "hap19 = hap19.sort_values(by=['카드이용금액계'], ascending=[False])[:10]\n",
    "hap19.to_csv('E:/oyj/result/19hap_topupjong_fore.csv')"
   ]
  },
  {
   "cell_type": "code",
   "execution_count": null,
   "metadata": {},
   "outputs": [],
   "source": [
    "hap20 = get_yeardata(fore_filepath,'20')\n",
    "hap20 = hap20.groupby(['외국인관광업종코드']).sum()\n",
    "hap20 = hap20.sort_values(by=['카드이용금액계'], ascending=[False])[:10]\n",
    "hap20.to_csv('E:/oyj/result/20hap_topupjong_fore.csv')"
   ]
  },
  {
   "cell_type": "code",
   "execution_count": null,
   "metadata": {},
   "outputs": [],
   "source": []
  }
 ],
 "metadata": {
  "kernelspec": {
   "display_name": "Python 3",
   "language": "python",
   "name": "python3"
  },
  "language_info": {
   "codemirror_mode": {
    "name": "ipython",
    "version": 3
   },
   "file_extension": ".py",
   "mimetype": "text/x-python",
   "name": "python",
   "nbconvert_exporter": "python",
   "pygments_lexer": "ipython3",
   "version": "3.7.3"
  }
 },
 "nbformat": 4,
 "nbformat_minor": 2
}
